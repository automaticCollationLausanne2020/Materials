{
 "cells": [
  {
   "cell_type": "markdown",
   "metadata": {
    "slideshow": {
     "slide_type": "slide"
    }
   },
   "source": [
    "# Session 2 - Introduction to Python"
   ]
  },
  {
   "cell_type": "markdown",
   "metadata": {
    "slideshow": {
     "slide_type": "slide"
    }
   },
   "source": [
    "## Summary\n",
    "\n",
    "- data types\n",
    "- variables\n",
    "- functions\n",
    "- open and read files\n",
    "- import packages\n"
   ]
  },
  {
   "cell_type": "markdown",
   "metadata": {
    "slideshow": {
     "slide_type": "slide"
    }
   },
   "source": [
    "## Data types\n",
    "\n",
    "Data types tell the computer what a piece of data is, and what it can do with it.\n",
    "\n",
    "You do not do the same things with words, or with numbers..."
   ]
  },
  {
   "cell_type": "code",
   "execution_count": 1,
   "metadata": {
    "slideshow": {
     "slide_type": "-"
    }
   },
   "outputs": [
    {
     "data": {
      "text/plain": [
       "'2020'"
      ]
     },
     "execution_count": 1,
     "metadata": {},
     "output_type": "execute_result"
    }
   ],
   "source": [
    "# compare\n",
    "\"20\"+\"20\""
   ]
  },
  {
   "cell_type": "code",
   "execution_count": 2,
   "metadata": {
    "slideshow": {
     "slide_type": "-"
    }
   },
   "outputs": [
    {
     "data": {
      "text/plain": [
       "40"
      ]
     },
     "execution_count": 2,
     "metadata": {},
     "output_type": "execute_result"
    }
   ],
   "source": [
    "20+20"
   ]
  },
  {
   "cell_type": "code",
   "execution_count": 4,
   "metadata": {
    "slideshow": {
     "slide_type": "slide"
    }
   },
   "outputs": [
    {
     "data": {
      "text/plain": [
       "str"
      ]
     },
     "execution_count": 4,
     "metadata": {},
     "output_type": "execute_result"
    }
   ],
   "source": [
    "# find the type of something\n",
    "type(\"20\")"
   ]
  },
  {
   "cell_type": "markdown",
   "metadata": {
    "slideshow": {
     "slide_type": "-"
    }
   },
   "source": [
    "**String (str)**:\n",
    "A sequence of characters (letters, punctuation, whitespace...)\n",
    "\n",
    "**Integer (int) and Float (float)**:  \n",
    "correspond to whole numbers (42) and decimal numbers (42.5)\n",
    "\n",
    "**Boolean (bool)**: \n",
    "either `True` or `False`"
   ]
  },
  {
   "cell_type": "markdown",
   "metadata": {
    "slideshow": {
     "slide_type": "slide"
    }
   },
   "source": [
    "## Variables\n",
    "Variables are used to give names to a piece of data (number, characters, strings, etc.)\n"
   ]
  },
  {
   "cell_type": "code",
   "execution_count": 3,
   "metadata": {
    "slideshow": {
     "slide_type": "fragment"
    }
   },
   "outputs": [],
   "source": [
    "# Here is how you assign a value to a variable\n",
    "# variable_name = variable_value\n",
    "a = 3.14159\n",
    "b = \"hello world!\" # you can also use single quotes: 'hello'\n",
    "c = b"
   ]
  },
  {
   "cell_type": "markdown",
   "metadata": {
    "slideshow": {
     "slide_type": "slide"
    }
   },
   "source": [
    "\n",
    "\n",
    "- Variables are used to store information to be accessed and manipulated in a computer program.\n",
    "- You can think of it as a **label** pointing at something stored in memory.\n",
    "- The value of a variable can be changed.\n",
    "- You need to assign a value to a variable before you can use it."
   ]
  },
  {
   "cell_type": "code",
   "execution_count": 7,
   "metadata": {
    "slideshow": {
     "slide_type": "slide"
    }
   },
   "outputs": [
    {
     "name": "stdout",
     "output_type": "stream",
     "text": [
      "+++ Divide By Cucumber Error. Please Reinstall Universe And Reboot +++\n",
      "10\n"
     ]
    }
   ],
   "source": [
    "# 1. assign a value to variable x\n",
    "x = 2+3\n",
    "\n",
    "# 2. you can reuse and modify your variable\n",
    "y = x*2\n",
    "x = \"+++ Divide By Cucumber Error. Please Reinstall Universe And Reboot +++\"\n",
    "\n",
    "# check the value of x and y\n",
    "print(x)\n",
    "print(y)"
   ]
  },
  {
   "cell_type": "markdown",
   "metadata": {
    "slideshow": {
     "slide_type": "slide"
    }
   },
   "source": [
    "## Variables - Names\n",
    "\n",
    "- The name of a variable can **contain** letters, numbers and underscore characters `_`\n",
    "- The name of a variable **starts** with a letter or `_`\n",
    "- It is case sensitive (`Test`and `test` are different variables)\n",
    "- Use meaningful variable names (not `a` or `b`, but better `wordCount` or `word_count`)"
   ]
  },
  {
   "cell_type": "markdown",
   "metadata": {
    "slideshow": {
     "slide_type": "slide"
    }
   },
   "source": [
    "## Errors: Don't Panic!"
   ]
  },
  {
   "cell_type": "code",
   "execution_count": null,
   "metadata": {
    "slideshow": {
     "slide_type": "fragment"
    }
   },
   "outputs": [],
   "source": [
    "a = \"The answer is \"\n",
    "b = \"42\"\n",
    "a+b"
   ]
  },
  {
   "cell_type": "markdown",
   "metadata": {
    "slideshow": {
     "slide_type": "subslide"
    }
   },
   "source": [
    "<img src=\"../ancillary/python-error-1.png\"  style=\"display:block;margin-right:auto;margin-left:auto;\">"
   ]
  },
  {
   "cell_type": "markdown",
   "metadata": {
    "slideshow": {
     "slide_type": "subslide"
    }
   },
   "source": [
    "Python gives you the information that you need to correct the error:\n",
    "1. The sort of error that was made: there is a problem with a data type.\n",
    "2. The error message: something should be a string, but instead Python got an integer.\n",
    "3. The line of code where the error happened: it highlighted with an arrow.\n",
    "\n",
    "**Conclusion**: the variable `b` should be converted to a string, if we want to eliminate the error at line 3 `a+b` ."
   ]
  },
  {
   "cell_type": "markdown",
   "metadata": {
    "slideshow": {
     "slide_type": "slide"
    }
   },
   "source": [
    "## Functions\n",
    "This is how you give orders to the computer!"
   ]
  },
  {
   "cell_type": "code",
   "execution_count": null,
   "metadata": {
    "slideshow": {
     "slide_type": "fragment"
    }
   },
   "outputs": [],
   "source": [
    "# assign your name to the variable\n",
    "name = \"\"\n",
    "\n",
    "# tell the computer to say hi\n",
    "print(\"Hi \"+name+\"!\")"
   ]
  },
  {
   "cell_type": "markdown",
   "metadata": {
    "slideshow": {
     "slide_type": "slide"
    }
   },
   "source": [
    "## Functions - Examples\n",
    "\n",
    "- general: `print()`, `help()`\n",
    "- data types: `type()`, `int()`, `str()`\n",
    "- counting the length: `len()`\n",
    "\n",
    "What goes inside the parenthesis is called the `argument`. Arguments are information passed to the function so that it can do its job! Arguments can be optional or mandatory."
   ]
  },
  {
   "cell_type": "markdown",
   "metadata": {
    "slideshow": {
     "slide_type": "skip"
    }
   },
   "source": [
    "- `print()`: displays a variable\n",
    "- `help()`: shows help about Python. If you give a variable name or a function name, you will receive more information about the variable data type, or how you can use the function (e.g. 'help(a)' or 'help(len)'.\n",
    "\n",
    "- `type()`: gives you the type of a variable\n",
    "- `int()`: converts a variable into an integer\n",
    "- `str()`: converts a variable into a string\n",
    "\n",
    "- `len()`: gives you the length of a variable (for a string, the number of characters it contains)"
   ]
  },
  {
   "cell_type": "markdown",
   "metadata": {
    "slideshow": {
     "slide_type": "slide"
    }
   },
   "source": [
    "## Functions - Exercises\n",
    "\n",
    "The lines starting with # are comments, they are ignored by Python. The comments give you the instruction of the exercise.\n",
    "\n",
    "Complete each cell by adding code below the comment, and then run then cell (click on 'Run' or 'Exécuter')."
   ]
  },
  {
   "cell_type": "code",
   "execution_count": 13,
   "metadata": {
    "slideshow": {
     "slide_type": "slide"
    }
   },
   "outputs": [],
   "source": [
    "# create a variable that is a string\n"
   ]
  },
  {
   "cell_type": "code",
   "execution_count": 14,
   "metadata": {},
   "outputs": [],
   "source": [
    "# create a new variable that transforms the first one into a number\n"
   ]
  },
  {
   "cell_type": "code",
   "execution_count": null,
   "metadata": {},
   "outputs": [],
   "source": [
    "# find the length of both variables - what happens? Why?\n"
   ]
  },
  {
   "cell_type": "code",
   "execution_count": null,
   "metadata": {},
   "outputs": [],
   "source": [
    "# ask the computer for help about the second variable!\n"
   ]
  },
  {
   "cell_type": "markdown",
   "metadata": {
    "slideshow": {
     "slide_type": "slide"
    }
   },
   "source": [
    "Functions usually send you back some information that can be stored in a variable, for later use:"
   ]
  },
  {
   "cell_type": "code",
   "execution_count": 23,
   "metadata": {
    "slideshow": {
     "slide_type": "-"
    }
   },
   "outputs": [
    {
     "name": "stdout",
     "output_type": "stream",
     "text": [
      "14\n"
     ]
    }
   ],
   "source": [
    "a = \"a short string\"\n",
    "b = len(a)\n",
    "print(b)"
   ]
  },
  {
   "cell_type": "markdown",
   "metadata": {
    "slideshow": {
     "slide_type": "slide"
    }
   },
   "source": [
    "## Methods\n",
    "Methods are functions that apply only to a certain data type:\n",
    "`str.upper()`, `str.find(sub[, start[, end]])`\n",
    "\n",
    "These functions apply to the data type *string* (str). What you see in the parenthesis are the arguments: `str.upper` has no argument, but `str.find` needs at least one argument (*sub*) and has two optional arguments (*start* and *end*)\n",
    "\n",
    "Here is a list of methods available for strings: <https://docs.python.org/3/library/stdtypes.html#string-methods>"
   ]
  },
  {
   "cell_type": "markdown",
   "metadata": {
    "slideshow": {
     "slide_type": "slide"
    }
   },
   "source": [
    "## Examples - Working with Strings"
   ]
  },
  {
   "cell_type": "code",
   "execution_count": 17,
   "metadata": {
    "slideshow": {
     "slide_type": "-"
    }
   },
   "outputs": [],
   "source": [
    "message = \"Le petit chien est sur la pente fatale!!!\"\n",
    "\n",
    "# replace characters\n",
    "a = message.replace(\"petit chien\", \"grand chat\")\n",
    "\n",
    "# count occurrences of a substring\n",
    "b = message.count(\"!\")\n",
    "\n",
    "# split a string at whitespace characters\n",
    "c = message.split(\" \")\n",
    "\n",
    "# join strings together\n",
    "d = \"-\".join(c)\n",
    "\n",
    "# print a variable to see the result"
   ]
  },
  {
   "cell_type": "markdown",
   "metadata": {
    "slideshow": {
     "slide_type": "slide"
    }
   },
   "source": [
    "## Read and Write files\n",
    "\n",
    "One of the most frequent tasks that programmers do is reading data from files and writing some of the output to other files.\n",
    "\n",
    "Files are located most often on your own computer. You access a file with its path:"
   ]
  },
  {
   "cell_type": "code",
   "execution_count": 23,
   "metadata": {},
   "outputs": [],
   "source": [
    "# full path on my own computer\n",
    "path_absolute = \"D:/Documents/academia/collation_workshops/data/discworld.txt\"\n",
    "\n",
    "# path relative to where I am now, in this notebook\n",
    "path_relative = \"../data/Pratchett/discworld.txt\""
   ]
  },
  {
   "cell_type": "markdown",
   "metadata": {
    "slideshow": {
     "slide_type": "slide"
    }
   },
   "source": [
    "This is how to read a file:\n",
    "- `with` statement\n",
    "- `open()` function, for which the first argument is a path to a file\n",
    "- `as` assigns a label (variable name) to the file\n",
    "- `read()` function"
   ]
  },
  {
   "cell_type": "code",
   "execution_count": 18,
   "metadata": {
    "slideshow": {
     "slide_type": "slide"
    }
   },
   "outputs": [
    {
     "data": {
      "text/plain": [
       "\"'I somehow feel I need to ask, Mister Stibbons...what chance is there of this just blowin' up and destroyin' the entire university?'\\nPonder's heart sank. He mentally scanned the sentence, and took refuge in the truth. 'None, sir.'\\n'Now try honesty, Mister Stibbons.'\\n[...]\\n'Well...in the unlikely event of it going seriously wrong, it... wouldn't just blow up the university, sir.'\\n'What would it blow up, pray?'\\n'Er... everything, sir.'\\n'Everything there is, you mean?'\\n'Within a radius of about fifty thousand miles out into space, sir, yes. According to Hex, it'd happen instantanously. We wouldn't even know about it.'\\n'And the odds of this are...?'\\n'About fifty to one, sir.'\\nThe wizards relaxed.\\n'That's pretty safe. I wouldn't bet on a horse at those odds,' said the Senior Wrangler.\""
      ]
     },
     "execution_count": 18,
     "metadata": {},
     "output_type": "execute_result"
    }
   ],
   "source": [
    "with open(\"../data/Pratchett/discworld.txt\", 'r') as file:\n",
    "    text = file.read()\n",
    "    \n",
    "# once we are out of the with statement, the file is closed again\n",
    "# but we can still access the variable we created\n",
    "text"
   ]
  },
  {
   "cell_type": "code",
   "execution_count": null,
   "metadata": {
    "slideshow": {
     "slide_type": "slide"
    }
   },
   "outputs": [],
   "source": [
    "# exercise:\n",
    "# open an other .txt file from the data folder and check its contents\n",
    "\n",
    "# bonus exercises: \n",
    "# try to split the text into lines with the function split()\n",
    "\n",
    "# count the number of time the letter 'i' appears in the text"
   ]
  },
  {
   "cell_type": "markdown",
   "metadata": {
    "slideshow": {
     "slide_type": "slide"
    }
   },
   "source": [
    "## Writing Files\n",
    "\n",
    "Writing to a file is similar as reading: use the `open()` function with `w` instead of `r`.\n",
    "\n",
    "If the path leads to an existing file, the content of the file will be replaced.\n",
    "\n",
    "If the file you are writing to does not exist, a new file will be created."
   ]
  },
  {
   "cell_type": "code",
   "execution_count": 19,
   "metadata": {
    "slideshow": {
     "slide_type": "-"
    }
   },
   "outputs": [],
   "source": [
    "with open('test.txt', 'w') as file:\n",
    "    file.write(\"This is a test!\")"
   ]
  },
  {
   "cell_type": "code",
   "execution_count": null,
   "metadata": {
    "slideshow": {
     "slide_type": "slide"
    }
   },
   "outputs": [],
   "source": [
    "# we check that it worked as planned, by reading the content of our new file\n",
    "with open('test.txt', 'r') as file:\n",
    "    text = file.read()\n",
    "text\n"
   ]
  },
  {
   "cell_type": "code",
   "execution_count": null,
   "metadata": {
    "slideshow": {
     "slide_type": "slide"
    }
   },
   "outputs": [],
   "source": [
    "# with r+, you can both read a file and then add more text at the end\n",
    "with open('test.txt', 'r+') as file:\n",
    "    text = file.read()\n",
    "    print(text) \n",
    "    file.write(\" I am adding more words to this test file.\")"
   ]
  },
  {
   "cell_type": "code",
   "execution_count": null,
   "metadata": {},
   "outputs": [],
   "source": [
    "# we check that it worked as planned\n",
    "with open('test.txt', 'r') as file:\n",
    "    text = file.read()\n",
    "text"
   ]
  },
  {
   "cell_type": "markdown",
   "metadata": {
    "slideshow": {
     "slide_type": "slide"
    }
   },
   "source": [
    "## Read Files\n",
    "\n",
    "Now that you know the proper way to do things, we can use a shortcut for reading files!\n",
    "\n",
    "It is also recommended to add an `encoding` argument to the `open()` function."
   ]
  },
  {
   "cell_type": "code",
   "execution_count": 33,
   "metadata": {
    "slideshow": {
     "slide_type": "slide"
    }
   },
   "outputs": [
    {
     "data": {
      "text/plain": [
       "\"'I somehow feel I need to ask, Mister Stibbons...what chance is there of this just blowin' up and destroyin' the entire university?'\\nPonder's heart sank. He mentally scanned the sentence, and took refuge in the truth. 'None, sir.'\\n'Now try honesty, Mister Stibbons.'\\n[...]\\n'Well...in the unlikely event of it going seriously wrong, it... wouldn't just blow up the university, sir.'\\n'What would it blow up, pray?'\\n'Er... everything, sir.'\\n'Everything there is, you mean?'\\n'Within a radius of about fifty thousand miles out into space, sir, yes. According to Hex, it'd happen instantanously. We wouldn't even know about it.'\\n'And the odds of this are...?'\\n'About fifty to one, sir.'\\nThe wizards relaxed.\\n'That's pretty safe. I wouldn't bet on a horse at those odds,' said the Senior Wrangler.\""
      ]
     },
     "execution_count": 33,
     "metadata": {},
     "output_type": "execute_result"
    }
   ],
   "source": [
    "text = open('../data/Pratchett/discworld.txt', 'r', encoding='utf-8').read()\n",
    "text"
   ]
  },
  {
   "cell_type": "markdown",
   "metadata": {
    "slideshow": {
     "slide_type": "slide"
    }
   },
   "source": [
    "## Import Modules\n",
    "Modules contains functions you can reuse in your code. You access the functions by importing the module with the keyword `import`. It is best to import modules at the beginning of your code.\n",
    "\n",
    "For instance, the `os` [module](https://docs.python.org/3/library/os.path.html) can be helpful when working with files and their paths in different OS (Mac, Windows, Linux). The `re` [module](https://docs.python.org/3/library/re.html) is useful for string operations."
   ]
  },
  {
   "cell_type": "code",
   "execution_count": 34,
   "metadata": {
    "slideshow": {
     "slide_type": "slide"
    }
   },
   "outputs": [
    {
     "name": "stdout",
     "output_type": "stream",
     "text": [
      "D:/Documents/academia/collation_workshops/data/discworld.txt\n",
      "discworld.txt\n"
     ]
    }
   ],
   "source": [
    "import re # module for working with regular expressions\n",
    "from os import path # import a part of the os module \n",
    "\n",
    "# Example: find the file name from a path\n",
    "filename = path.basename(path_absolute)\n",
    "\n",
    "print(path_absolute)\n",
    "print(filename)"
   ]
  },
  {
   "cell_type": "markdown",
   "metadata": {
    "slideshow": {
     "slide_type": "slide"
    }
   },
   "source": [
    "## More Data Types - List\n",
    "The items or elements of lists are **ordered** in a defined sequence. A string is a sort of list.\n",
    "The elements of a list can be accessed via a number that indicates their position inside the list (the **index**)."
   ]
  },
  {
   "cell_type": "code",
   "execution_count": 35,
   "metadata": {},
   "outputs": [
    {
     "name": "stdout",
     "output_type": "stream",
     "text": [
      "w\n",
      "London\n"
     ]
    }
   ],
   "source": [
    "cities = [\"Vienna\", \"London\", \"Paris\", \"Berlin\", \"Zurich\"] # square brackets\n",
    "world = \"world\"\n",
    "\n",
    "# the index starts at 0\n",
    "print(world[0])\n",
    "print(cities[1])"
   ]
  },
  {
   "cell_type": "code",
   "execution_count": 36,
   "metadata": {
    "slideshow": {
     "slide_type": "slide"
    }
   },
   "outputs": [
    {
     "data": {
      "text/plain": [
       "['Vienna', 'London', 'Paris', 'Berlin', 'Lausanne']"
      ]
     },
     "execution_count": 36,
     "metadata": {},
     "output_type": "execute_result"
    }
   ],
   "source": [
    "# add item\n",
    "cities.append(\"Lausanne\")\n",
    "\n",
    "# remove item\n",
    "cities.remove(\"Zurich\")\n",
    "\n",
    "cities"
   ]
  },
  {
   "cell_type": "code",
   "execution_count": 37,
   "metadata": {},
   "outputs": [],
   "source": [
    "# you can have a list of lists\n",
    "lists = [[1, 2, 3],\n",
    "        [\"Rincewind\", \"Ridcully\", \"Hex\"],\n",
    "        [42, \"don't panic!\"]]"
   ]
  },
  {
   "cell_type": "markdown",
   "metadata": {
    "slideshow": {
     "slide_type": "slide"
    }
   },
   "source": [
    "## More Data Types - Dictionary\n",
    "A dictionary is an **unordered** collection of pairs of key/value.\n",
    "\n",
    "The **key** is always a string.\n",
    "\n",
    "The **value** can be anything!\n"
   ]
  },
  {
   "cell_type": "code",
   "execution_count": 38,
   "metadata": {
    "slideshow": {
     "slide_type": "-"
    }
   },
   "outputs": [
    {
     "data": {
      "text/plain": [
       "['Terry Pratchett', 'Neil Gaiman']"
      ]
     },
     "execution_count": 38,
     "metadata": {},
     "output_type": "execute_result"
    }
   ],
   "source": [
    "# a dictionary is in curly brackets\n",
    "book = {\"title\": \"Good Omens\",\n",
    "        \"author\": [\"Terry Pratchett\", \"Neil Gaiman\"],\n",
    "        \"year\": 1990\n",
    "       }\n",
    "# you can access a value thanks to the key\n",
    "book[\"author\"]"
   ]
  },
  {
   "cell_type": "code",
   "execution_count": 39,
   "metadata": {
    "slideshow": {
     "slide_type": "slide"
    }
   },
   "outputs": [
    {
     "data": {
      "text/plain": [
       "{'title': 'Good Omens',\n",
       " 'author': ['Terry Pratchett', 'Neil Gaiman'],\n",
       " 'publisher': 'Gollancz'}"
      ]
     },
     "execution_count": 39,
     "metadata": {},
     "output_type": "execute_result"
    }
   ],
   "source": [
    "# add a key/value pair\n",
    "book[\"publisher\"] = \"Gollancz\"\n",
    "\n",
    "# remove a key/value pair\n",
    "book.pop(\"year\")\n",
    "\n",
    "book"
   ]
  },
  {
   "cell_type": "markdown",
   "metadata": {
    "slideshow": {
     "slide_type": "slide"
    }
   },
   "source": [
    "## Additional materials\n",
    "\n",
    "- Python course: [data types and variables](https://www.python-course.eu/python3_variables.php)\n",
    "- The Python Tutorial: [read and write files](https://docs.python.org/3/tutorial/inputoutput.html#reading-and-writing-files)\n",
    "- Real Python: [understanding error messages](https://realpython.com/python-traceback/#what-are-some-common-tracebacks-in-python)\n",
    "- W3Schools Python tutorial: [objects and classes](https://www.w3schools.com/python/python_classes.asp)"
   ]
  },
  {
   "cell_type": "markdown",
   "metadata": {
    "slideshow": {
     "slide_type": "slide"
    }
   },
   "source": [
    "## Additional materials - Objects and Classes\n",
    "\n",
    "Python is an Object Oriented Programming language. Almost everything in Python is an object, with its properties and methods, e.g. strings, integers, lists, etc \n",
    "\n",
    "We have seen that **1 variable = 1 data type** (more or less, there are some more complex data types like lists and dictionaries).\n",
    "\n",
    "But sometimes a single data type cannot describe something properly. **Classes** let you create your own objects and write methods for your objects."
   ]
  },
  {
   "cell_type": "markdown",
   "metadata": {
    "slideshow": {
     "slide_type": "slide"
    }
   },
   "source": [
    "For example, you can imagine a Book oject that has 3 or more properties: title, author, date...\n",
    "\n",
    "Imagine that you have a lot of books. Now you can do different things:\n",
    "\n",
    "- order them alphabetically by titles\n",
    "- ask how many books were written by author X\n",
    "- ask which book was published first\n"
   ]
  },
  {
   "cell_type": "code",
   "execution_count": null,
   "metadata": {
    "slideshow": {
     "slide_type": "slide"
    }
   },
   "outputs": [],
   "source": [
    "# example of a Book class definition\n",
    "\n",
    "class Book:\n",
    "    # when Book() is called, it creates a Book object (an \"instance\")\n",
    "    def __init__(self, t, a, y):\n",
    "        self.title = t # set title\n",
    "        self.author = a # set author\n",
    "        self.year = y # set year\n",
    "    \n",
    "# the Book() function needs three arguments, in the proper order: \n",
    "#1. title, 2. author, 3. date of publication\n",
    "b = Book(\"Alice's adventures in Wonderland\", \"Lewis Carroll\", 1865)\n",
    "\n",
    "# check the author of the book you just created\n",
    "b.author"
   ]
  },
  {
   "cell_type": "markdown",
   "metadata": {
    "slideshow": {
     "slide_type": "slide"
    }
   },
   "source": [
    "**Why does this matter?**  \n",
    "We are not going to create objects ourselves, but it can be useful to understand this concept because that is how the CollateX module is organized.\n",
    "\n",
    "**Exercise:**  \n",
    "Can you imagine what properties should a \"Collation\" class have? What other classes would we need?\n",
    "\n",
    "**If you are very much bored...** Check CollateX source code for it's [core classes](https://github.com/interedition/collatex/blob/master/collatex-pythonport/collatex/core_classes.py) and see how the Collation object has been implemented. You can also check the [core functions](https://github.com/interedition/collatex/blob/master/collatex-pythonport/collatex/core_functions.py)."
   ]
  }
 ],
 "metadata": {
  "celltoolbar": "Diaporama",
  "kernelspec": {
   "display_name": "Python 3",
   "language": "python",
   "name": "python3"
  },
  "language_info": {
   "codemirror_mode": {
    "name": "ipython",
    "version": 3
   },
   "file_extension": ".py",
   "mimetype": "text/x-python",
   "name": "python",
   "nbconvert_exporter": "python",
   "pygments_lexer": "ipython3",
   "version": "3.6.7"
  },
  "rise": {
   "scroll": true,
   "theme": "solarized",
   "transition": "slide"
  }
 },
 "nbformat": 4,
 "nbformat_minor": 2
}
