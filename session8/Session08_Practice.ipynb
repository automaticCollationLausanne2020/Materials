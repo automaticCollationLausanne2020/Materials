{
 "cells": [
  {
   "cell_type": "markdown",
   "metadata": {},
   "source": [
    "# Automatic Collation Practice \n",
    "\n",
    "\n",
    "## Binder Reminder\n",
    "\n",
    "**Attention:** What you do inside a notebook on Binder is not saved by default! If you close the tab, reload it, or loose your connection in any way, your work will be lost.\n",
    "\n",
    "Create regular back-up, every time you complete one exercise.\n",
    "\n",
    "To backup your notebook in Binder, go to `File > Download as > Notebook (.ipynb)`.\n",
    "\n",
    "If you happen to loose your connection, then you will be able to upload your backup in Binder: \n",
    "- click again on the Binder button on the [github repo](https://github.com/automaticCollationLausanne2020/Materials)\n",
    "- when the file manager opens, navigate to the folder of session 8\n",
    "- click on `upload` as shown in the image below, and select your backup .ipynb notebook\n",
    "\n",
    "![upload-saved-notebook.jpg](../ancillary/upload-saved-notebook.jpg)\n",
    "\n",
    "Of course, if you are on your own installation this will not be a problem. But don't forget to save your notebook nevertheless by clicking on the 'save' icon!\n",
    "\n",
    "## Instructions\n",
    "\n",
    "In each code cell below, add code to complete the instruction in the comment. You may use either the materials provided during the workshop, or use your own texts.\n",
    "\n",
    "The files on your computer are not available from within the binder environment: if you wish to use your own text, you should upload them (exactly like a saved notebook), or copy their content into a Python string.\n",
    "\n",
    "## Evaluation\n",
    "\n",
    "For those who want to receive credits for this course, please send back this completed notebook, as well as any file needed to run the notebook, should you choose to collate your own text.\n",
    "\n",
    "The Python notebook should be able to run without an error.\n"
   ]
  },
  {
   "cell_type": "code",
   "execution_count": null,
   "metadata": {},
   "outputs": [],
   "source": [
    "# make sure you have the latest version of collatex"
   ]
  },
  {
   "cell_type": "code",
   "execution_count": null,
   "metadata": {},
   "outputs": [],
   "source": [
    "# import collatex (and other modules if needed)"
   ]
  },
  {
   "cell_type": "code",
   "execution_count": null,
   "metadata": {},
   "outputs": [],
   "source": [
    "# get the text of minimum 3 witnesses, opening at least 1 file and reading the content"
   ]
  },
  {
   "cell_type": "markdown",
   "metadata": {},
   "source": [
    "Remark: you can choose either plain text or json as the input format. Depending on your choice, you may not need to complete each of the following code cells."
   ]
  },
  {
   "cell_type": "code",
   "execution_count": null,
   "metadata": {},
   "outputs": [],
   "source": [
    "# create a collation object"
   ]
  },
  {
   "cell_type": "code",
   "execution_count": null,
   "metadata": {},
   "outputs": [],
   "source": [
    "# add the witnesses"
   ]
  },
  {
   "cell_type": "code",
   "execution_count": null,
   "metadata": {},
   "outputs": [],
   "source": [
    "# collate with a table output"
   ]
  },
  {
   "cell_type": "code",
   "execution_count": null,
   "metadata": {},
   "outputs": [],
   "source": [
    "# collate and display results as a vertical html table, choosing whether you want to see the segmentation or not"
   ]
  },
  {
   "cell_type": "code",
   "execution_count": null,
   "metadata": {},
   "outputs": [],
   "source": [
    "# collate again but this time select a TEI output"
   ]
  },
  {
   "cell_type": "code",
   "execution_count": null,
   "metadata": {},
   "outputs": [],
   "source": [
    "# save the TEI results by writing them in a new file"
   ]
  },
  {
   "cell_type": "code",
   "execution_count": null,
   "metadata": {},
   "outputs": [],
   "source": [
    "# optional: create more visualisations"
   ]
  }
 ],
 "metadata": {
  "kernelspec": {
   "display_name": "Python 3",
   "language": "python",
   "name": "python3"
  },
  "language_info": {
   "codemirror_mode": {
    "name": "ipython",
    "version": 3
   },
   "file_extension": ".py",
   "mimetype": "text/x-python",
   "name": "python",
   "nbconvert_exporter": "python",
   "pygments_lexer": "ipython3",
   "version": "3.6.7"
  }
 },
 "nbformat": 4,
 "nbformat_minor": 4
}
