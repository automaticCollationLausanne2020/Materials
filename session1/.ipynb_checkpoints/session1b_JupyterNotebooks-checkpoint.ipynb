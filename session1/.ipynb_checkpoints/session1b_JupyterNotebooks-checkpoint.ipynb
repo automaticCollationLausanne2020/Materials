{
 "cells": [
  {
   "cell_type": "markdown",
   "metadata": {
    "collapsed": true,
    "slideshow": {
     "slide_type": "slide"
    }
   },
   "source": [
    "# Session 1b - What is a Jupyter Notebook"
   ]
  },
  {
   "cell_type": "markdown",
   "metadata": {
    "slideshow": {
     "slide_type": "slide"
    }
   },
   "source": [
    "## a Jupyter Notebook\n",
    "- is a file, with extension `.ipynb`\n",
    "- contains text (to be read) and code (to be run, or executed);\n",
    "- the text is written in the Markdown markup language and the code in the Python programming language\n",
    "\n"
   ]
  },
  {
   "cell_type": "markdown",
   "metadata": {
    "slideshow": {
     "slide_type": "slide"
    }
   },
   "source": [
    "## Start Jupyter Notebook through Binder\n",
    "\n",
    "- Go to our Github repo at https://github.com/automaticCollationLausanne2020/Materials (link in the Workshop website)\n",
    "- Click the button at the bottom of the page ![image.png](https://mybinder.org/static/images/badge_logo.svg?v=117793ab76524046ef44e2d2d5af220c)"
   ]
  },
  {
   "cell_type": "markdown",
   "metadata": {
    "slideshow": {
     "slide_type": "subslide"
    }
   },
   "source": [
    "### Alternative: start Jupyter Notebook locally (step 1)\n",
    "\n",
    "Note: this is only possible if you've followed the [installation instructions](https://github.com/automaticCollationLausanne2020/Materials/blob/master/installation.md) and have installed Anaconda. Also, you should have download the Github repo at https://github.com/automaticCollationLausanne2020/Materials and unzip it.\n",
    "\n",
    "- use the launcher (for example, in the Windows computers in the rooms, start writing 'Jupyter' in the bottom left launcher)\n",
    "- or open a terminal and type `jupyter notebook`\n",
    "\n"
   ]
  },
  {
   "cell_type": "markdown",
   "metadata": {
    "slideshow": {
     "slide_type": "subslide"
    }
   },
   "source": [
    "### Alternative: start Jupyter Notebook locally (step 2)\n",
    "\n",
    "In both cases, the terminal will show that Jupyter is starting and a window will open in your default web browser (Firefox, Chrome, Safari, etc.). You can ignore the terminal after that; your interaction with Jupyter will happen entirely in the browser window.\n",
    "\n",
    "- Navigate in the file system to reach the directory where you've unzipped the materials in the workshop Github repo."
   ]
  },
  {
   "cell_type": "markdown",
   "metadata": {
    "slideshow": {
     "slide_type": "subslide"
    }
   },
   "source": [
    "Do you see something like this? Hurray!\n",
    "\n",
    "![image.png](../ancillary/session01b/jupyterLandingPage.png)\n",
    "\n"
   ]
  },
  {
   "cell_type": "markdown",
   "metadata": {
    "slideshow": {
     "slide_type": "slide"
    }
   },
   "source": [
    "## Open a Jupyter Notebook\n",
    "\n",
    "<img src=\"../ancillary/session01b/fileManager1.png\" width=\"10%\"/>\n",
    "\n",
    "What you see in the browser is a file manager (*gestionnaire de fichiers*) and you can navigate in it as you would do in any other file manager (like Finder on MacOS), by double-clicking on the icons.\n",
    "\n",
    "- Enter the folder `session1` and open the file `Session01b_JupyterNotebooks.ipynb` (double-click on it)"
   ]
  },
  {
   "cell_type": "markdown",
   "metadata": {
    "slideshow": {
     "slide_type": "slide"
    }
   },
   "source": [
    "## Basic operations in Jupyter Notebook\n",
    "\n",
    "First, a Jupyter Notenook is made of **cells**, just like a prose text is made of paragraphs. The **borders** of a cell appear when you click on it. Try clicking anywhere in the file and you'll see them!\n",
    "\n",
    "A cell can contain:\n",
    "\n",
    "1. **Text in Markdown**: this is the styled text mode that we use when we’re not writing code, to add documentation and instructions.\n",
    "2. **Code in Python**.\n",
    "\n",
    "Let's see how they work."
   ]
  },
  {
   "cell_type": "markdown",
   "metadata": {
    "slideshow": {
     "slide_type": "subslide"
    }
   },
   "source": [
    "### Create a new cell\n",
    "\n",
    "Move your cursor HERE and click: the borders of this cell appear.\n",
    "\n",
    "Now to create a new cell after this one:\n",
    "- use the button with the sign '+' (second from the left in the toolbar)\n",
    "- (or, alternative) go the the menu 'Insert' and choose 'Insert cell below'\n",
    "\n",
    "A new cell will appear below. Click on it and you are inside. Before start writing, we need to choose the editing mode. Keep reading ...\n"
   ]
  },
  {
   "cell_type": "markdown",
   "metadata": {},
   "source": [
    "# Getting started!\n",
    "This is my **first** notebook, called *Welcome*"
   ]
  },
  {
   "cell_type": "markdown",
   "metadata": {
    "slideshow": {
     "slide_type": "subslide"
    }
   },
   "source": [
    "### Markdown Cells\n",
    "\n",
    "Once you are inside the new cell, select _Markdown_ mode from the dropdown menu in the toolbar. You'll see the `in [ ]` on the left disappearing.\n",
    "\n",
    "Then type the following text in the new cell (including the hashtag and asterisks!):\n",
    "\n",
    "`# Getting started!\n",
    " This is my **first** Jupyter Notebook, called *Welcome*.`"
   ]
  },
  {
   "cell_type": "markdown",
   "metadata": {},
   "source": [
    "### Markdown syntax\n",
    "\n",
    "The hashtags and asterisks are part of the Markdown syntax.\n",
    "\n",
    "- One hashtag means that this is a first level title\n",
    "- Everything between the asterisks is italic\n",
    "- Everything between two asterisks is bold\n",
    "\n",
    "You can find a Markdown Cheat Sheet [here](https://www.markdownguide.org/cheat-sheet) and a Markdown tutorial [here](https://www.markdowntutorial.com/) (note that languages other than English contain translation errors)."
   ]
  },
  {
   "cell_type": "markdown",
   "metadata": {},
   "source": [
    "### Run (or execute) markdown and code\n",
    "\n",
    "Now we can render the Markdown syntax, which is the same as run (or execute) the code. Once you are inside the cell, you have multiple options for the command “run cell, select below”:\n",
    "- press the corresponding button on the toolbar (right-pointing triangle \"Run\")\n",
    "- (or, alternative) click on the Cell menu and then select *run cells and select below* \n",
    "- (or, alternative) hit Shift+Enter\n",
    "\n",
    "The instructions you are reading are Markdown themselves. Double-click here to see what's behind! And don't forget to run the cell afterwards, in order to have the nice rendition back."
   ]
  },
  {
   "cell_type": "markdown",
   "metadata": {},
   "source": [
    "### *Your turn!*"
   ]
  },
  {
   "cell_type": "markdown",
   "metadata": {
    "slideshow": {
     "slide_type": "subslide"
    }
   },
   "source": [
    "### Code Cells\n",
    "\n",
    "Now let's create a new cell on top of this one, as we have seen above\n",
    "\n",
    "- select the cell *Your turn!* by clicking on it and press the **+** button in the toolbar.\n",
    "\n",
    "- instead of selecting Markdown, this time keep the _Code_ mode from the dropdown menu in the toolbar.\n",
    "\n",
    "Our first bit of code is going to follow tradition: what better place to start than the classic [_Hello World!_](http://en.wikipedia.org/wiki/%22Hello,_world!%22_program_) program. It’s easy to describe what we want to do for our _Hello World!_ program: we want to write code that will display the string (or sequence of characters) “Hello World!”. \n"
   ]
  },
  {
   "cell_type": "markdown",
   "metadata": {},
   "source": [
    "- Write the following in the new cell: we are using the `print` function to display what's inside the parenthesis\n",
    "\n",
    "`print(\"Hello world!\")`\n",
    "\n",
    "- now run the cell as we've seen before, click on the triangle button Run in the toolbar\n",
    "\n",
    "The result should appear below.\n",
    "\n",
    "Yay, our first program!"
   ]
  },
  {
   "cell_type": "markdown",
   "metadata": {},
   "source": [
    "### *Your turn!*"
   ]
  },
  {
   "cell_type": "markdown",
   "metadata": {
    "slideshow": {
     "slide_type": "subslide"
    }
   },
   "source": [
    "### Input and output sections in code cells\n",
    "\n",
    "The sequence above shows a key aspect of Jupyter code cells: there’s an **input section** and an **output section**: the input section is where you write the code and is indicated on the left of the editing box with the word “In” followed by a number in square brackets; the output section is where the result of running your code will appear, below the input section."
   ]
  },
  {
   "cell_type": "markdown",
   "metadata": {
    "slideshow": {
     "slide_type": "subslide"
    }
   },
   "source": [
    "### Save\n",
    "\n",
    "If we have been working on a notebook, we would of course want to save our work before quitting. For saving the notebook you are working on, you have again several options:\n",
    "- press the file icon, that is the first button on the left\n",
    "- (or, alternative) select *Save and checkpoint* from the File menu\n",
    "- (or, alternative) hit Ctrl+s\n"
   ]
  },
  {
   "cell_type": "markdown",
   "metadata": {
    "slideshow": {
     "slide_type": "subslide"
    }
   },
   "source": [
    "#### ... but if we are in the virtual computer created by Binder \n",
    "\n",
    "nothing will be saved to our computer.\n",
    "\n",
    "Luckily, we have another option:\n"
   ]
  },
  {
   "cell_type": "markdown",
   "metadata": {
    "slideshow": {
     "slide_type": "subslide"
    }
   },
   "source": [
    "### Download\n",
    "\n",
    "We can download the notebook in different formats (menu `File > Download as`)."
   ]
  },
  {
   "cell_type": "markdown",
   "metadata": {
    "slideshow": {
     "slide_type": "slide"
    }
   },
   "source": [
    "## Open a new Notebook\n",
    "\n",
    "- Go back to the tab in your browser with the file manager (see the image above) and navigate to the folder in which you want to open a new file.\n",
    "- Select the type of file you want to create from the 'New' dropdown menu on the right: for a Jupyter Notebook, select 'Python 3'.\n",
    "- A new tab with the new file will open. Give it a name by double-clicking on the name 'Untitled' and typing your new name.\n",
    "- That's it!"
   ]
  },
  {
   "cell_type": "markdown",
   "metadata": {
    "slideshow": {
     "slide_type": "slide"
    }
   },
   "source": [
    "## Quit Jupyter (if you've started Juypter locally and not in Binder)\n",
    "\n",
    "The browser window opened when Jupyter was launched is just a regular window. For quitting Jupyter we can close the browser window(s) opened by Jupyter, then switch to the terminal and follow the instruction:\n",
    "\n",
    "    Use Control-C to stop this server and shut down all kernels (twice to skip confirmation).\n",
    "   "
   ]
  },
  {
   "cell_type": "markdown",
   "metadata": {
    "slideshow": {
     "slide_type": "subslide"
    }
   },
   "source": [
    "## Where are my notebooks  (if you've started Juypter locally and not in Binder)\n",
    "\n",
    "Everything that we do through the Jupyter interface is stored locally on our computer. Just remember that in order to open and edit the notebooks, we have to launch Jupyter again. It is the same as for a Microsoft Word file: you edit it through the program and you store it in your computer, the only difference is that the program runs in the broswer for a Jupyter Notebook."
   ]
  },
  {
   "cell_type": "markdown",
   "metadata": {
    "slideshow": {
     "slide_type": "slide"
    }
   },
   "source": [
    "## More about Jupyter notebook\n",
    "\n",
    "Resources about Jupyter Notebook are available through\n",
    "\n",
    "- the official [Jupyter](https://jupyter.org/) page\n",
    "- the Jupyter Notebook [documentation](https://jupyter-notebook.readthedocs.io/en/stable/index.html)\n",
    "- many other places on the web\n",
    "\n",
    "For a DH oriented introduction, have a look at the first chapters (*Getting setup* and *Getting started*) of [The Art of Literary Text Analysis](http://nbviewer.jupyter.org/github/sgsinclair/alta/blob/master/ipynb/ArtOfLiteraryTextAnalysis.ipynb) by Stéfan Sinclair & Geoffrey Rockwell."
   ]
  }
 ],
 "metadata": {
  "kernelspec": {
   "display_name": "Python 3",
   "language": "python",
   "name": "python3"
  },
  "language_info": {
   "codemirror_mode": {
    "name": "ipython",
    "version": 3
   },
   "file_extension": ".py",
   "mimetype": "text/x-python",
   "name": "python",
   "nbconvert_exporter": "python",
   "pygments_lexer": "ipython3",
   "version": "3.8.3"
  },
  "rise": {
   "scroll": true,
   "theme": "solarized",
   "transition": "slide"
  }
 },
 "nbformat": 4,
 "nbformat_minor": 2
}
