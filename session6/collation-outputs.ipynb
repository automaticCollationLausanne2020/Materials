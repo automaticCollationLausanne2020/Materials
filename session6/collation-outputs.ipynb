{
 "cells": [
  {
   "cell_type": "markdown",
   "metadata": {
    "slideshow": {
     "slide_type": "slide"
    }
   },
   "source": [
    "# Collation outputs\n",
    "\n",
    "\n",
    "- Introduction\n",
    "- In practice\n",
    "    - Table: plain text\n",
    "    - Table: HTML\n",
    "- An interlude: the JSON format\n",
    "- Continuing the practice\n",
    "    - Table: JSON\n",
    "    - Table: CSV and TSV\n",
    "    - Table: XML and XML/TEI\n",
    "    - Exercise 1\n",
    "    - Graph: SVG\n",
    "- Exercise 2\n"
   ]
  },
  {
   "cell_type": "markdown",
   "metadata": {
    "slideshow": {
     "slide_type": "slide"
    }
   },
   "source": [
    "\n",
    "\n",
    "## Introduction\n",
    "\n",
    "In this tutorial we will be trying different outputs for our collation, meaning different graphical representations, formats and visualizations of the result.\n",
    "\n",
    "The visualization of the collation result is an open discussion: several possibilities have been suggested and used and new ones are always being proposed. When the output of the collation is a printed format, such as a book, it is rare to see anything different from the traditional critical apparatus. Now that output formats are more frequently digital (or at least have a digital component), collation tools tend to offer more than one visualization option, like it is the case for CollateX. The different visualizations are not incompatible; on the contrary, they can be complementary, highlighting different aspects of the result and suitable for different users or different stages of the workflow.\n"
   ]
  },
  {
   "cell_type": "markdown",
   "metadata": {},
   "source": [
    "\n",
    "When we introduced CollateX (session 4), we saw a few examples of the alignment table and the graph. The alignment table, in use since the 1960's, is the equivalent of the matrix of bioinformatic for sequence alignment (for example, strings of DNA). In contrast, the graph is meant to represent the fluidity of the text and its variation. The idea of a graph-oriented model for expressing textual variance has been originally developed by Desmond Schmidt [(2008)](http://multiversiondocs.blogspot.it/2008/03/whats-multi-version-document.html). You can refer to [this video](https://vimeo.com/114242362), for a presentation on *Apparatus vs. Graph – an Interface as Scholarly Argument* by Tara Andrews and Joris van Zundert.\n"
   ]
  },
  {
   "cell_type": "markdown",
   "metadata": {},
   "source": [
    "CollateX has two main ways to conceive of the collation result: as a **table** (with many different formatting options) and as a **graph**:\n",
    "- table formats\n",
    "    - plain text table (no need to specify the output)\n",
    "    - HTML table (output='**html**')\n",
    "    - HTML vertical table with colors (output='**html2**')\n",
    "    - JSON (output='**json**')\n",
    "    - XML (output='**xml**')\n",
    "    - XML/TEI (output='**tei**')\n",
    "- graph format\n",
    "    - SVG (output='**svg**')"
   ]
  },
  {
   "cell_type": "markdown",
   "metadata": {
    "slideshow": {
     "slide_type": "slide"
    }
   },
   "source": [
    "## In practice\n",
    "\n",
    "Even though we have already encountered some of these outputs, it is worth going through them one more time focussing on part of the code that needs to change to produce the different formats. \n"
   ]
  },
  {
   "cell_type": "markdown",
   "metadata": {
    "slideshow": {
     "slide_type": "slide"
    }
   },
   "source": [
    "\n",
    "### Table: plain text\n",
    "\n",
    "In this tutorial we will use a sentence taken from the British and US editions of _Harry Potter and the Philosopher’s Stone_ by J.K. Rowling and the same quote from the film adaptation.\n",
    "\n",
    "Let’s start with the most simple output, for which we don't need to specify any output format (note that you can name the variable containing the output anything you like, but in this tutorial we call it *alignment_table*, *table* or *graph*)\n",
    "\n",
    "In the code cell below the lines starting with a hash (#) are comments and are not executed. They are there in this instance to help you remember what the different parts of the code do. You do not need to use them in your notebook (although sometimes it is helpful to add comments to your code so you remember what things do)."
   ]
  },
  {
   "cell_type": "code",
   "execution_count": 13,
   "metadata": {
    "slideshow": {
     "slide_type": "slide"
    }
   },
   "outputs": [
    {
     "name": "stdout",
     "output_type": "stream",
     "text": [
      "+------+--------+---------+----+-----+---+--------+---+-----------+-----------+\n",
      "| UK   | George | reckons | he | had | a | bogey  | - | flavoured | one once. |\n",
      "| US   | George | reckons | he | had | a | booger | - | flavored  | one once. |\n",
      "| Film | George | sweared | he | got | a | bogey  | - | flavoured | one once. |\n",
      "+------+--------+---------+----+-----+---+--------+---+-----------+-----------+\n"
     ]
    }
   ],
   "source": [
    "#import the collatex library\n",
    "from collatex import *\n",
    "#create an instance of the CollateX engine\n",
    "collation = Collation()\n",
    "#add witnesses to the CollateX instance\n",
    "collation.add_plain_witness( \"UK\", \"George reckons he had a bogey-flavoured one once.\")\n",
    "collation.add_plain_witness( \"US\", \"George reckons he had a booger-flavored one once.\" )\n",
    "collation.add_plain_witness( \"Film\", \"George sweared he got a bogey-flavoured one once.\" )\n",
    "#collate the witnesses and store the result in a variable called 'table'\n",
    "#as we have not specified an output this will be stored in plain text\n",
    "table = collate(collation)\n",
    "#print the collation result\n",
    "print(table)"
   ]
  },
  {
   "cell_type": "markdown",
   "metadata": {
    "slideshow": {
     "slide_type": "subslide"
    }
   },
   "source": [
    "Specially when there are many witnesses, you might want to create a vertical table instead. For that, you need to add the parameter `layout=\"vertical\"` to the `collate()` function."
   ]
  },
  {
   "cell_type": "code",
   "execution_count": 16,
   "metadata": {
    "slideshow": {
     "slide_type": "subslide"
    }
   },
   "outputs": [
    {
     "name": "stdout",
     "output_type": "stream",
     "text": [
      "+-----------+-----------+-----------+\n",
      "|     UK    |     US    |    Film   |\n",
      "+-----------+-----------+-----------+\n",
      "|   George  |   George  |   George  |\n",
      "+-----------+-----------+-----------+\n",
      "|  reckons  |  reckons  |  sweared  |\n",
      "+-----------+-----------+-----------+\n",
      "|     he    |     he    |     he    |\n",
      "+-----------+-----------+-----------+\n",
      "|    had    |    had    |    got    |\n",
      "+-----------+-----------+-----------+\n",
      "|     a     |     a     |     a     |\n",
      "+-----------+-----------+-----------+\n",
      "|   bogey   |   booger  |   bogey   |\n",
      "+-----------+-----------+-----------+\n",
      "|     -     |     -     |     -     |\n",
      "+-----------+-----------+-----------+\n",
      "| flavoured |  flavored | flavoured |\n",
      "+-----------+-----------+-----------+\n",
      "| one once. | one once. | one once. |\n",
      "+-----------+-----------+-----------+\n"
     ]
    }
   ],
   "source": [
    "table = collate(collation, layout=\"vertical\")\n",
    "print(table)"
   ]
  },
  {
   "cell_type": "markdown",
   "metadata": {
    "slideshow": {
     "slide_type": "subslide"
    }
   },
   "source": [
    "### Table: HTML\n",
    "\n",
    "Now let's try a different output. This time we still want a table format but instead of it being in plain text we would like it exported in HTML (the markup language used for web pages). To achieve this all you need to do is add the keyword *output* to the *collate* command and give it that value *html*."
   ]
  },
  {
   "cell_type": "code",
   "execution_count": 15,
   "metadata": {
    "slideshow": {
     "slide_type": "subslide"
    }
   },
   "outputs": [
    {
     "data": {
      "text/html": [
       "<table>\n",
       "    <tr>\n",
       "        <td>UK</td>\n",
       "        <td>George</td>\n",
       "        <td>reckons</td>\n",
       "        <td>he</td>\n",
       "        <td>had</td>\n",
       "        <td>a</td>\n",
       "        <td>bogey</td>\n",
       "        <td>-</td>\n",
       "        <td>flavoured</td>\n",
       "        <td>one once.</td>\n",
       "    </tr>\n",
       "    <tr>\n",
       "        <td>US</td>\n",
       "        <td>George</td>\n",
       "        <td>reckons</td>\n",
       "        <td>he</td>\n",
       "        <td>had</td>\n",
       "        <td>a</td>\n",
       "        <td>booger</td>\n",
       "        <td>-</td>\n",
       "        <td>flavored</td>\n",
       "        <td>one once.</td>\n",
       "    </tr>\n",
       "    <tr>\n",
       "        <td>Film</td>\n",
       "        <td>George</td>\n",
       "        <td>sweared</td>\n",
       "        <td>he</td>\n",
       "        <td>got</td>\n",
       "        <td>a</td>\n",
       "        <td>bogey</td>\n",
       "        <td>-</td>\n",
       "        <td>flavoured</td>\n",
       "        <td>one once.</td>\n",
       "    </tr>\n",
       "</table>"
      ],
      "text/plain": [
       "<IPython.core.display.HTML object>"
      ]
     },
     "metadata": {},
     "output_type": "display_data"
    }
   ],
   "source": [
    "table = collate(collation, output=\"html\")"
   ]
  },
  {
   "cell_type": "markdown",
   "metadata": {
    "slideshow": {
     "slide_type": "subslide"
    }
   },
   "source": [
    "CollateX Python supports two HTML output methods, `html` and `html2`. Unlike the plain text table, which must be printed with a `print()` statement, both HTML formats automatically write their output to the screen inside the Jupyter Notebook interface. These output formats are intended for use only inside Jupyter Notebook, and CollateX Python currently does not expose a method to save them for use elsewhere.\n",
    "\n",
    "By default the html method, like the ASCII table method, creates a horizontal table. You can create a vertical table adding again the `layout` parameter.\n",
    "\n"
   ]
  },
  {
   "cell_type": "code",
   "execution_count": 17,
   "metadata": {
    "slideshow": {
     "slide_type": "subslide"
    }
   },
   "outputs": [
    {
     "data": {
      "text/html": [
       "<table>\n",
       "    <tr>\n",
       "        <th>UK</th>\n",
       "        <th>US</th>\n",
       "        <th>Film</th>\n",
       "    </tr>\n",
       "    <tr>\n",
       "        <td>George</td>\n",
       "        <td>George</td>\n",
       "        <td>George</td>\n",
       "    </tr>\n",
       "    <tr>\n",
       "        <td>reckons</td>\n",
       "        <td>reckons</td>\n",
       "        <td>sweared</td>\n",
       "    </tr>\n",
       "    <tr>\n",
       "        <td>he</td>\n",
       "        <td>he</td>\n",
       "        <td>he</td>\n",
       "    </tr>\n",
       "    <tr>\n",
       "        <td>had</td>\n",
       "        <td>had</td>\n",
       "        <td>got</td>\n",
       "    </tr>\n",
       "    <tr>\n",
       "        <td>a</td>\n",
       "        <td>a</td>\n",
       "        <td>a</td>\n",
       "    </tr>\n",
       "    <tr>\n",
       "        <td>bogey</td>\n",
       "        <td>booger</td>\n",
       "        <td>bogey</td>\n",
       "    </tr>\n",
       "    <tr>\n",
       "        <td>-</td>\n",
       "        <td>-</td>\n",
       "        <td>-</td>\n",
       "    </tr>\n",
       "    <tr>\n",
       "        <td>flavoured</td>\n",
       "        <td>flavored</td>\n",
       "        <td>flavoured</td>\n",
       "    </tr>\n",
       "    <tr>\n",
       "        <td>one once.</td>\n",
       "        <td>one once.</td>\n",
       "        <td>one once.</td>\n",
       "    </tr>\n",
       "</table>"
      ],
      "text/plain": [
       "<IPython.core.display.HTML object>"
      ]
     },
     "metadata": {},
     "output_type": "display_data"
    }
   ],
   "source": [
    "table = collate(collation, output=\"html\", layout=\"vertical\")"
   ]
  },
  {
   "cell_type": "markdown",
   "metadata": {
    "slideshow": {
     "slide_type": "subslide"
    }
   },
   "source": [
    "The `html2` method produces only vertical output (the layout parameter is ignored) and the output is colorized, which makes it easier to distinguish zones with variation (red background) and those without (cyan)."
   ]
  },
  {
   "cell_type": "code",
   "execution_count": 27,
   "metadata": {
    "slideshow": {
     "slide_type": "subslide"
    }
   },
   "outputs": [
    {
     "data": {
      "text/html": [
       "<TABLE border=\"1\" style=\"border: 1px solid #000000; border-collapse: collapse;\" cellpadding=\"4\">\n",
       " <TR>\n",
       "  <TH>UK</TH>\n",
       "  <TH>US</TH>\n",
       "  <TH>Film</TH>\n",
       " </TR>\n",
       " <TR>\n",
       "  <TD bgcolor=\"00FFFF\">George</TD>\n",
       "  <TD bgcolor=\"00FFFF\">George</TD>\n",
       "  <TD bgcolor=\"00FFFF\">George</TD>\n",
       " </TR>\n",
       " <TR>\n",
       "  <TD bgcolor=\"FF0000\">reckons</TD>\n",
       "  <TD bgcolor=\"FF0000\">reckons</TD>\n",
       "  <TD bgcolor=\"FF0000\">sweared</TD>\n",
       " </TR>\n",
       " <TR>\n",
       "  <TD bgcolor=\"00FFFF\">he</TD>\n",
       "  <TD bgcolor=\"00FFFF\">he</TD>\n",
       "  <TD bgcolor=\"00FFFF\">he</TD>\n",
       " </TR>\n",
       " <TR>\n",
       "  <TD bgcolor=\"FF0000\">had</TD>\n",
       "  <TD bgcolor=\"FF0000\">had</TD>\n",
       "  <TD bgcolor=\"FF0000\">got</TD>\n",
       " </TR>\n",
       " <TR>\n",
       "  <TD bgcolor=\"00FFFF\">a</TD>\n",
       "  <TD bgcolor=\"00FFFF\">a</TD>\n",
       "  <TD bgcolor=\"00FFFF\">a</TD>\n",
       " </TR>\n",
       " <TR>\n",
       "  <TD bgcolor=\"FF0000\">bogey</TD>\n",
       "  <TD bgcolor=\"FF0000\">booger</TD>\n",
       "  <TD bgcolor=\"FF0000\">bogey</TD>\n",
       " </TR>\n",
       " <TR>\n",
       "  <TD bgcolor=\"00FFFF\">-</TD>\n",
       "  <TD bgcolor=\"00FFFF\">-</TD>\n",
       "  <TD bgcolor=\"00FFFF\">-</TD>\n",
       " </TR>\n",
       " <TR>\n",
       "  <TD bgcolor=\"FF0000\">flavoured</TD>\n",
       "  <TD bgcolor=\"FF0000\">flavored</TD>\n",
       "  <TD bgcolor=\"FF0000\">flavoured</TD>\n",
       " </TR>\n",
       " <TR>\n",
       "  <TD bgcolor=\"00FFFF\">one once.</TD>\n",
       "  <TD bgcolor=\"00FFFF\">one once.</TD>\n",
       "  <TD bgcolor=\"00FFFF\">one once.</TD>\n",
       " </TR>\n",
       "</TABLE>"
      ],
      "text/plain": [
       "<IPython.core.display.HTML object>"
      ]
     },
     "metadata": {},
     "output_type": "display_data"
    }
   ],
   "source": [
    "table = collate(collation, output=\"html2\")"
   ]
  },
  {
   "cell_type": "markdown",
   "metadata": {
    "slideshow": {
     "slide_type": "slide"
    }
   },
   "source": [
    "## An interlude: the JSON format\n",
    "\n",
    "\n",
    "[JavaScript Object Notation (JSON)](https://www.json.org/json-en.html) is a syntax for storing and exchanging data. It is a lightweight data-interchange format and due to its “self-describing” nature, it is easy to understand.\n",
    "\n",
    "**JSON data** is written as **name/value pairs**. A name/value pair consists of a field name (in double quotes), followed by a colon, followed by a value:\n",
    "\n",
    "``\n",
    "\"firstName\": \"Virginia\"\n",
    "``\n",
    "\n",
    "**JSON objects** are written inside curly braces. A object can contain multiple name/values pairs:\n",
    "\n",
    "``\n",
    "{\"firstName\": \"Virginia\", \"lastName\": \"Woolf\"}\n",
    "``\n",
    "\n",
    "**JSON arrays** (ordered lists) are written inside square brackets. Arrays can contain objects.\n",
    "\n",
    "``\n",
    "\"authors\":[\n",
    "    {\"firstName\":\"Virginia\", \"lastName\":\"Woolf\"},\n",
    "    {\"firstName\":\"Toni\", \"lastName\":\"Morrison\"},\n",
    "    {\"firstName\":\"Maya\", \"lastName\":\"Angelou\"}\n",
    "]\n",
    "\n",
    "``\n",
    "\n",
    "JSON is a very flexible format that can be used either as the input or the output of CollateX. A JSON file as a CollateX infput consists of one root object that contains the data of the transcription. This object requires a property called `witnesses` which encloses the different versions we want to collate. The value of this property is an array (a list) of objects in turn, with each object representing a version. The order of the array elements determines the order in which they are processed by the alignment algorithm.\n",
    "\n",
    "Each object in the witnesses array must have a unique identifier in the required property id. This identifier will be used in the output to reference a particular version. Besides the identifier each object must describe the content of the version. The content can either be specified as a string property named `content`.\n",
    "\n",
    "``\n",
    "{\n",
    "  \"witnesses\" : [\n",
    "    {\n",
    "      \"id\" : \"UK\",\n",
    "      \"content\" : \"George reckons he had a bogey-flavoured one once.\"\n",
    "    },\n",
    "    {\n",
    "      \"id\" : \"US\",\n",
    "      \"content\" : \"George reckons he had a booger-flavored one once.\"\n",
    "    },\n",
    "    {\n",
    "      \"id\" : \"Film\",\n",
    "      \"content\" : \"George sweared he got a bogey-flavoured one once.\"\n",
    "    }\n",
    "  ]\n",
    "}\n",
    "\n",
    "``\n",
    "\n",
    "Another option is to provide the content of versions in tokenized (and optionally normalized) form:\n",
    "\n",
    "``\n",
    "{\n",
    "    \"witnesses\": [\n",
    "        {\n",
    "            \"id\": \"UK\",\n",
    "            \"tokens\": [\n",
    "                {\"t\": \"George\"},\n",
    "                {\"t\": \"reckons\"},\n",
    "                {\"t\": \"he\"},\n",
    "                {\"t\": \"had\"},\n",
    "                {\"t\": \"a\"},\n",
    "                {\"t\": \"bogey\", \"n\": \"booger\"},\n",
    "                {\"t\": \"-\"},\n",
    "                {\"t\": \"flavoured\"},\n",
    "                {\"t\": \"one\"},\n",
    "                {\"t\": \"once\"},\n",
    "                {\"t\": \".\"}\n",
    "            ]\n",
    "        },\n",
    "        {\n",
    "            \"id\": \"US\",\n",
    "            \"tokens\": [\n",
    "                {\"t\": \"George\"},\n",
    "                {\"t\": \"reckons\"},\n",
    "                {\"t\": \"he\"},\n",
    "                {\"t\": \"had\"},\n",
    "                {\"t\": \"a\"},\n",
    "                {\"t\": \"booger\"},\n",
    "                {\"t\": \"-\"},\n",
    "                {\"t\": \"flavored\", \"n\": \"flavoured\"},\n",
    "                {\"t\": \"one\"},\n",
    "                {\"t\": \"once\"},\n",
    "                {\"t\": \".\"}\n",
    "            ]\n",
    "        },\n",
    "                {\n",
    "            \"id\": \"Film\",\n",
    "            \"tokens\": [\n",
    "                {\"t\": \"George\"},\n",
    "                {\"t\": \"swears\"},\n",
    "                {\"t\": \"he\"},\n",
    "                {\"t\": \"had\"},\n",
    "                {\"t\": \"a\"},\n",
    "                {\"t\": \"bogey\", \"n\": \"booger\"},\n",
    "                {\"t\": \"-\"},\n",
    "                {\"t\": \"flavoured\"},\n",
    "                {\"t\": \"one\"},\n",
    "                {\"t\": \"once\"},\n",
    "                {\"t\": \".\"}\n",
    "            ]\n",
    "        }\n",
    "    ]\n",
    "}``\n",
    "\n",
    "When there is the `n` property, it is importance to note that the alignment is done taking into consideration the contents of this property and not those of `t`. In the ecdotic context, we can consider that `t` contains the diplomatic transcription and `n` the normalized form."
   ]
  },
  {
   "cell_type": "markdown",
   "metadata": {
    "slideshow": {
     "slide_type": "slide"
    }
   },
   "source": [
    "## Continuing the practise\n",
    "\n",
    "### Table: JSON\n",
    "\n",
    "JSON (Javascript Object Notation) is a format widely used for storing and interchanging data nowadays. In order to produce JSON as output, we need to specify *json* as the output format."
   ]
  },
  {
   "cell_type": "code",
   "execution_count": 20,
   "metadata": {
    "scrolled": true,
    "slideshow": {
     "slide_type": "slide"
    }
   },
   "outputs": [
    {
     "name": "stdout",
     "output_type": "stream",
     "text": [
      "{\"table\": [[[{\"_sigil\": \"UK\", \"_token_array_position\": 0, \"n\": \"George\", \"t\": \"George \"}], [{\"_sigil\": \"UK\", \"_token_array_position\": 1, \"n\": \"reckons\", \"t\": \"reckons \"}], [{\"_sigil\": \"UK\", \"_token_array_position\": 2, \"n\": \"he\", \"t\": \"he \"}], [{\"_sigil\": \"UK\", \"_token_array_position\": 3, \"n\": \"had\", \"t\": \"had \"}], [{\"_sigil\": \"UK\", \"_token_array_position\": 4, \"n\": \"a\", \"t\": \"a \"}], [{\"_sigil\": \"UK\", \"_token_array_position\": 5, \"n\": \"bogey\", \"t\": \"bogey\"}], [{\"_sigil\": \"UK\", \"_token_array_position\": 6, \"n\": \"-\", \"t\": \"-\"}], [{\"_sigil\": \"UK\", \"_token_array_position\": 7, \"n\": \"flavoured\", \"t\": \"flavoured \"}], [{\"_sigil\": \"UK\", \"_token_array_position\": 8, \"n\": \"one\", \"t\": \"one \"}, {\"_sigil\": \"UK\", \"_token_array_position\": 9, \"n\": \"once\", \"t\": \"once\"}, {\"_sigil\": \"UK\", \"_token_array_position\": 10, \"n\": \".\", \"t\": \".\"}]], [[{\"_sigil\": \"US\", \"_token_array_position\": 12, \"n\": \"George\", \"t\": \"George \"}], [{\"_sigil\": \"US\", \"_token_array_position\": 13, \"n\": \"reckons\", \"t\": \"reckons \"}], [{\"_sigil\": \"US\", \"_token_array_position\": 14, \"n\": \"he\", \"t\": \"he \"}], [{\"_sigil\": \"US\", \"_token_array_position\": 15, \"n\": \"had\", \"t\": \"had \"}], [{\"_sigil\": \"US\", \"_token_array_position\": 16, \"n\": \"a\", \"t\": \"a \"}], [{\"_sigil\": \"US\", \"_token_array_position\": 17, \"n\": \"booger\", \"t\": \"booger\"}], [{\"_sigil\": \"US\", \"_token_array_position\": 18, \"n\": \"-\", \"t\": \"-\"}], [{\"_sigil\": \"US\", \"_token_array_position\": 19, \"n\": \"flavored\", \"t\": \"flavored \"}], [{\"_sigil\": \"US\", \"_token_array_position\": 20, \"n\": \"one\", \"t\": \"one \"}, {\"_sigil\": \"US\", \"_token_array_position\": 21, \"n\": \"once\", \"t\": \"once\"}, {\"_sigil\": \"US\", \"_token_array_position\": 22, \"n\": \".\", \"t\": \".\"}]], [[{\"_sigil\": \"Film\", \"_token_array_position\": 24, \"n\": \"George\", \"t\": \"George \"}], [{\"_sigil\": \"Film\", \"_token_array_position\": 25, \"n\": \"sweared\", \"t\": \"sweared \"}], [{\"_sigil\": \"Film\", \"_token_array_position\": 26, \"n\": \"he\", \"t\": \"he \"}], [{\"_sigil\": \"Film\", \"_token_array_position\": 27, \"n\": \"got\", \"t\": \"got \"}], [{\"_sigil\": \"Film\", \"_token_array_position\": 28, \"n\": \"a\", \"t\": \"a \"}], [{\"_sigil\": \"Film\", \"_token_array_position\": 29, \"n\": \"bogey\", \"t\": \"bogey\"}], [{\"_sigil\": \"Film\", \"_token_array_position\": 30, \"n\": \"-\", \"t\": \"-\"}], [{\"_sigil\": \"Film\", \"_token_array_position\": 31, \"n\": \"flavoured\", \"t\": \"flavoured \"}], [{\"_sigil\": \"Film\", \"_token_array_position\": 32, \"n\": \"one\", \"t\": \"one \"}, {\"_sigil\": \"Film\", \"_token_array_position\": 33, \"n\": \"once\", \"t\": \"once\"}, {\"_sigil\": \"Film\", \"_token_array_position\": 34, \"n\": \".\", \"t\": \".\"}]]], \"witnesses\": [\"UK\", \"US\", \"Film\"]}\n"
     ]
    }
   ],
   "source": [
    "table = collate(collation, output='json')\n",
    "print(table)"
   ]
  },
  {
   "cell_type": "markdown",
   "metadata": {
    "slideshow": {
     "slide_type": "slide"
    }
   },
   "source": [
    "### Table: CSV and TSV\n",
    "\n",
    "The output methods `csv` and `tsv` produce comma-separated-value (CSV) and tab-separated-value (TSV) output, respectively, following the layout of the basic plain text table, where each row corresponds to a witness."
   ]
  },
  {
   "cell_type": "code",
   "execution_count": 22,
   "metadata": {
    "slideshow": {
     "slide_type": "slide"
    }
   },
   "outputs": [
    {
     "name": "stdout",
     "output_type": "stream",
     "text": [
      "UK,George ,reckons ,he ,had ,a ,bogey,-,flavoured ,one once.\n",
      "US,George ,reckons ,he ,had ,a ,booger,-,flavored ,one once.\n",
      "Film,George ,sweared ,he ,got ,a ,bogey,-,flavoured ,one once.\n",
      "\n"
     ]
    }
   ],
   "source": [
    "table = collate(collation, output='csv')\n",
    "print(table)"
   ]
  },
  {
   "cell_type": "markdown",
   "metadata": {
    "slideshow": {
     "slide_type": "subslide"
    }
   },
   "source": [
    "### Table: XML and XML/TEI\n",
    "\n",
    "We can use the same procedure in order to export the table in XML or XML/TEI (the latter produces a condensed version of the table only listing witnesses at points of divergence - also called a negative apparatus). To do this, we just keep specifying a different output format. Let's start with the XML output (that you can later post-process using XSLT or other tools)."
   ]
  },
  {
   "cell_type": "code",
   "execution_count": 19,
   "metadata": {
    "slideshow": {
     "slide_type": "subslide"
    }
   },
   "outputs": [
    {
     "name": "stdout",
     "output_type": "stream",
     "text": [
      "<root><app><rdg wit=\"#Film\">George </rdg><rdg wit=\"#UK\">George </rdg><rdg wit=\"#US\">George </rdg></app><app><rdg wit=\"#Film\">sweared </rdg><rdg wit=\"#UK\">reckons </rdg><rdg wit=\"#US\">reckons </rdg></app><app><rdg wit=\"#Film\">he </rdg><rdg wit=\"#UK\">he </rdg><rdg wit=\"#US\">he </rdg></app><app><rdg wit=\"#Film\">got </rdg><rdg wit=\"#UK\">had </rdg><rdg wit=\"#US\">had </rdg></app><app><rdg wit=\"#Film\">a </rdg><rdg wit=\"#UK\">a </rdg><rdg wit=\"#US\">a </rdg></app><app><rdg wit=\"#Film\">bogey</rdg><rdg wit=\"#UK\">bogey</rdg><rdg wit=\"#US\">booger</rdg></app><app><rdg wit=\"#Film\">-</rdg><rdg wit=\"#UK\">-</rdg><rdg wit=\"#US\">-</rdg></app><app><rdg wit=\"#Film\">flavoured </rdg><rdg wit=\"#UK\">flavoured </rdg><rdg wit=\"#US\">flavored </rdg></app><app><rdg wit=\"#Film\">one once.</rdg><rdg wit=\"#UK\">one once.</rdg><rdg wit=\"#US\">one once.</rdg></app></root>\n"
     ]
    }
   ],
   "source": [
    "table = collate(collation, output='xml')\n",
    "print(table)"
   ]
  },
  {
   "cell_type": "markdown",
   "metadata": {
    "slideshow": {
     "slide_type": "subslide"
    }
   },
   "source": [
    "And, finally, you can test the XML/TEI output that produces XML following the TEI parallel segmentation encoding guidelines."
   ]
  },
  {
   "cell_type": "code",
   "execution_count": 18,
   "metadata": {
    "slideshow": {
     "slide_type": "subslide"
    }
   },
   "outputs": [
    {
     "name": "stdout",
     "output_type": "stream",
     "text": [
      "<?xml version=\"1.0\" ?><cx:apparatus xmlns=\"http://www.tei-c.org/ns/1.0\" xmlns:cx=\"http://interedition.eu/collatex/ns/1.0\">George <app><rdg wit=\"#Film\">sweared</rdg><rdg wit=\"#UK #US\">reckons</rdg></app> he <app><rdg wit=\"#Film\">got</rdg><rdg wit=\"#UK #US\">had</rdg></app> a <app><rdg wit=\"#Film #UK\">bogey</rdg><rdg wit=\"#US\">booger</rdg></app>-<app><rdg wit=\"#Film #UK\">flavoured</rdg><rdg wit=\"#US\">flavored</rdg></app> one once.</cx:apparatus>\n"
     ]
    }
   ],
   "source": [
    "table = collate(collation, output='tei')\n",
    "print(table)"
   ]
  },
  {
   "cell_type": "markdown",
   "metadata": {
    "slideshow": {
     "slide_type": "subslide"
    }
   },
   "source": [
    "A more legible output is available by setting the `indent` parameter to `true`, in which case running:"
   ]
  },
  {
   "cell_type": "code",
   "execution_count": 23,
   "metadata": {
    "slideshow": {
     "slide_type": "subslide"
    }
   },
   "outputs": [
    {
     "name": "stdout",
     "output_type": "stream",
     "text": [
      "<?xml version=\"1.0\" ?>\n",
      "<cx:apparatus xmlns=\"http://www.tei-c.org/ns/1.0\" xmlns:cx=\"http://interedition.eu/collatex/ns/1.0\">\n",
      "\tGeorge \n",
      "\t<app>\n",
      "\t\t<rdg wit=\"#Film\">sweared</rdg>\n",
      "\t\t<rdg wit=\"#UK #US\">reckons</rdg>\n",
      "\t</app>\n",
      "\t \n",
      "\the \n",
      "\t<app>\n",
      "\t\t<rdg wit=\"#Film\">got</rdg>\n",
      "\t\t<rdg wit=\"#UK #US\">had</rdg>\n",
      "\t</app>\n",
      "\t \n",
      "\ta \n",
      "\t<app>\n",
      "\t\t<rdg wit=\"#Film #UK\">bogey</rdg>\n",
      "\t\t<rdg wit=\"#US\">booger</rdg>\n",
      "\t</app>\n",
      "\t-\n",
      "\t<app>\n",
      "\t\t<rdg wit=\"#Film #UK\">flavoured</rdg>\n",
      "\t\t<rdg wit=\"#US\">flavored</rdg>\n",
      "\t</app>\n",
      "\t \n",
      "\tone once.\n",
      "</cx:apparatus>\n",
      "\n"
     ]
    }
   ],
   "source": [
    "table = collate(collation, output=\"tei\", indent=\"true\")\n",
    "print(table)"
   ]
  },
  {
   "cell_type": "markdown",
   "metadata": {
    "slideshow": {
     "slide_type": "subslide"
    }
   },
   "source": [
    "## Exercise 1\n",
    "\n",
    "Add the `indent` parameter to the following code so as to generate an indented XML output."
   ]
  },
  {
   "cell_type": "code",
   "execution_count": 24,
   "metadata": {
    "slideshow": {
     "slide_type": "subslide"
    }
   },
   "outputs": [
    {
     "name": "stdout",
     "output_type": "stream",
     "text": [
      "<root><app><rdg wit=\"#Film\">George </rdg><rdg wit=\"#UK\">George </rdg><rdg wit=\"#US\">George </rdg></app><app><rdg wit=\"#Film\">sweared </rdg><rdg wit=\"#UK\">reckons </rdg><rdg wit=\"#US\">reckons </rdg></app><app><rdg wit=\"#Film\">he </rdg><rdg wit=\"#UK\">he </rdg><rdg wit=\"#US\">he </rdg></app><app><rdg wit=\"#Film\">got </rdg><rdg wit=\"#UK\">had </rdg><rdg wit=\"#US\">had </rdg></app><app><rdg wit=\"#Film\">a </rdg><rdg wit=\"#UK\">a </rdg><rdg wit=\"#US\">a </rdg></app><app><rdg wit=\"#Film\">bogey</rdg><rdg wit=\"#UK\">bogey</rdg><rdg wit=\"#US\">booger</rdg></app><app><rdg wit=\"#Film\">-</rdg><rdg wit=\"#UK\">-</rdg><rdg wit=\"#US\">-</rdg></app><app><rdg wit=\"#Film\">flavoured </rdg><rdg wit=\"#UK\">flavoured </rdg><rdg wit=\"#US\">flavored </rdg></app><app><rdg wit=\"#Film\">one once.</rdg><rdg wit=\"#UK\">one once.</rdg><rdg wit=\"#US\">one once.</rdg></app></root>\n"
     ]
    }
   ],
   "source": [
    "#This is the code you need to modify\n",
    "table = collate(collation, output=\"xml\")\n",
    "print(table)"
   ]
  },
  {
   "cell_type": "markdown",
   "metadata": {
    "slideshow": {
     "slide_type": "slide"
    }
   },
   "source": [
    "\n",
    "### Graph: SVG\n",
    "\n",
    "Two types of SVG output are supported for visualizing the variant graph, `svg_simple` and `svg`. SVG output, like HTML output and unlike the plain text table output, is rendered automatically by the `collate()` function inside the Jupyter Notebook interface. The two SVG output formats are intended for use only inside Jupyter Notebook, and CollateX Python currently does not expose a method to save them for use elsewhere."
   ]
  },
  {
   "cell_type": "code",
   "execution_count": 25,
   "metadata": {
    "slideshow": {
     "slide_type": "slide"
    }
   },
   "outputs": [
    {
     "data": {
      "image/svg+xml": [
       "<svg height=\"174pt\" viewBox=\"0.00 0.00 2951.40 173.54\" width=\"2951pt\" xmlns=\"http://www.w3.org/2000/svg\" xmlns:xlink=\"http://www.w3.org/1999/xlink\">\n",
       "<g class=\"graph\" id=\"graph0\" transform=\"scale(1 1) rotate(0) translate(4 169.54)\">\n",
       "<title>%3</title>\n",
       "<polygon fill=\"white\" points=\"-4,4 -4,-169.54 2947.4,-169.54 2947.4,4 -4,4\" stroke=\"transparent\"/>\n",
       "<!-- 1 -->\n",
       "<g class=\"node\" id=\"node1\">\n",
       "<title>1</title>\n",
       "<ellipse cx=\"71.42\" cy=\"-82.77\" fill=\"none\" rx=\"71.34\" ry=\"21.84\" stroke=\"black\"/>\n",
       "<polygon fill=\"none\" points=\"30.42,-71.77 30.42,-92.77 64.42,-92.77 64.42,-71.77 30.42,-71.77\" stroke=\"black\"/>\n",
       "<text font-family=\"Times,serif\" font-size=\"14.00\" font-weight=\"bold\" text-anchor=\"start\" x=\"33.42\" y=\"-79.57\">start</text>\n",
       "<polygon fill=\"none\" points=\"64.42,-71.77 64.42,-92.77 113.42,-92.77 113.42,-71.77 64.42,-71.77\" stroke=\"black\"/>\n",
       "<text font-family=\"Times,serif\" font-size=\"14.00\" text-anchor=\"start\" x=\"67.42\" y=\"-78.57\">exact: 0</text>\n",
       "<polygon fill=\"none\" points=\"28.92,-71.27 28.92,-94.27 113.92,-94.27 113.92,-71.27 28.92,-71.27\" stroke=\"black\"/>\n",
       "</g>\n",
       "<!-- 3 -->\n",
       "<g class=\"node\" id=\"node3\">\n",
       "<title>3</title>\n",
       "<ellipse cx=\"373.8\" cy=\"-82.77\" fill=\"none\" rx=\"115.93\" ry=\"36.54\" stroke=\"black\"/>\n",
       "<polygon fill=\"none\" points=\"300.8,-82.77 300.8,-103.77 361.8,-103.77 361.8,-82.77 300.8,-82.77\" stroke=\"black\"/>\n",
       "<text font-family=\"Times,serif\" font-size=\"14.00\" font-weight=\"bold\" text-anchor=\"start\" x=\"303.8\" y=\"-90.57\">George</text>\n",
       "<polygon fill=\"none\" points=\"361.8,-82.77 361.8,-103.77 446.8,-103.77 446.8,-82.77 361.8,-82.77\" stroke=\"black\"/>\n",
       "<text font-family=\"Times,serif\" font-size=\"14.00\" text-anchor=\"start\" x=\"364.8\" y=\"-89.57\">exact: 1</text>\n",
       "<polygon fill=\"none\" points=\"300.8,-61.77 300.8,-82.77 361.8,-82.77 361.8,-61.77 300.8,-61.77\" stroke=\"black\"/>\n",
       "<text font-family=\"Bukyvede\" font-size=\"14.00\" text-anchor=\"start\" x=\"303.8\" y=\"-68.57\">George </text>\n",
       "<polygon fill=\"none\" points=\"361.8,-61.77 361.8,-82.77 446.8,-82.77 446.8,-61.77 361.8,-61.77\" stroke=\"black\"/>\n",
       "<text font-family=\"Times,serif\" font-size=\"14.00\" text-anchor=\"start\" x=\"364.8\" y=\"-68.57\">UK, US, Film</text>\n",
       "<polygon fill=\"none\" points=\"299.8,-60.77 299.8,-104.77 447.8,-104.77 447.8,-60.77 299.8,-60.77\" stroke=\"black\"/>\n",
       "</g>\n",
       "<!-- 1&#45;&gt;3 -->\n",
       "<g class=\"edge\" id=\"edge1\">\n",
       "<title>1-&gt;3</title>\n",
       "<path d=\"M142.84,-82.77C174.07,-82.77 211.78,-82.77 247.54,-82.77\" fill=\"none\" stroke=\"black\"/>\n",
       "<polygon fill=\"black\" points=\"247.57,-86.27 257.57,-82.77 247.57,-79.27 247.57,-86.27\" stroke=\"black\"/>\n",
       "<text font-family=\"Times,serif\" font-size=\"14.00\" text-anchor=\"middle\" x=\"200.34\" y=\"-86.57\">UK, US, Film</text>\n",
       "</g>\n",
       "<!-- 2 -->\n",
       "<g class=\"node\" id=\"node2\">\n",
       "<title>2</title>\n",
       "<ellipse cx=\"2871.27\" cy=\"-82.77\" fill=\"none\" rx=\"72.25\" ry=\"21.84\" stroke=\"black\"/>\n",
       "<polygon fill=\"none\" points=\"2829.27,-71.77 2829.27,-92.77 2857.27,-92.77 2857.27,-71.77 2829.27,-71.77\" stroke=\"black\"/>\n",
       "<text font-family=\"Times,serif\" font-size=\"14.00\" font-weight=\"bold\" text-anchor=\"start\" x=\"2832.27\" y=\"-79.57\">end</text>\n",
       "<polygon fill=\"none\" points=\"2857.27,-71.77 2857.27,-92.77 2913.27,-92.77 2913.27,-71.77 2857.27,-71.77\" stroke=\"black\"/>\n",
       "<text font-family=\"Times,serif\" font-size=\"14.00\" text-anchor=\"start\" x=\"2860.27\" y=\"-78.57\">exact: 10</text>\n",
       "<polygon fill=\"none\" points=\"2828.27,-71.27 2828.27,-94.27 2914.27,-94.27 2914.27,-71.27 2828.27,-71.27\" stroke=\"black\"/>\n",
       "</g>\n",
       "<!-- 4 -->\n",
       "<g class=\"node\" id=\"node4\">\n",
       "<title>4</title>\n",
       "<ellipse cx=\"666.93\" cy=\"-128.77\" fill=\"none\" rx=\"94.09\" ry=\"36.54\" stroke=\"black\"/>\n",
       "<polygon fill=\"none\" points=\"609.93,-128.77 609.93,-149.77 673.93,-149.77 673.93,-128.77 609.93,-128.77\" stroke=\"black\"/>\n",
       "<text font-family=\"Times,serif\" font-size=\"14.00\" font-weight=\"bold\" text-anchor=\"start\" x=\"612.93\" y=\"-136.57\">reckons</text>\n",
       "<polygon fill=\"none\" points=\"673.93,-128.77 673.93,-149.77 724.93,-149.77 724.93,-128.77 673.93,-128.77\" stroke=\"black\"/>\n",
       "<text font-family=\"Times,serif\" font-size=\"14.00\" text-anchor=\"start\" x=\"676.93\" y=\"-135.57\">exact: 2</text>\n",
       "<polygon fill=\"none\" points=\"609.93,-107.77 609.93,-128.77 673.93,-128.77 673.93,-107.77 609.93,-107.77\" stroke=\"black\"/>\n",
       "<text font-family=\"Bukyvede\" font-size=\"14.00\" text-anchor=\"start\" x=\"612.93\" y=\"-114.57\">reckons </text>\n",
       "<polygon fill=\"none\" points=\"673.93,-107.77 673.93,-128.77 724.93,-128.77 724.93,-107.77 673.93,-107.77\" stroke=\"black\"/>\n",
       "<text font-family=\"Times,serif\" font-size=\"14.00\" text-anchor=\"start\" x=\"676.93\" y=\"-114.57\">UK, US</text>\n",
       "<polygon fill=\"none\" points=\"608.43,-106.77 608.43,-150.77 725.43,-150.77 725.43,-106.77 608.43,-106.77\" stroke=\"black\"/>\n",
       "</g>\n",
       "<!-- 3&#45;&gt;4 -->\n",
       "<g class=\"edge\" id=\"edge2\">\n",
       "<title>3-&gt;4</title>\n",
       "<path d=\"M477.85,-99.05C507.56,-103.75 539.85,-108.85 569.16,-113.48\" fill=\"none\" stroke=\"black\"/>\n",
       "<polygon fill=\"black\" points=\"568.97,-116.99 579.39,-115.1 570.06,-110.08 568.97,-116.99\" stroke=\"black\"/>\n",
       "<text font-family=\"Times,serif\" font-size=\"14.00\" text-anchor=\"middle\" x=\"530.27\" y=\"-113.57\">UK, US</text>\n",
       "</g>\n",
       "<!-- 14 -->\n",
       "<g class=\"node\" id=\"node14\">\n",
       "<title>14</title>\n",
       "<ellipse cx=\"666.93\" cy=\"-36.77\" fill=\"none\" rx=\"96.33\" ry=\"36.54\" stroke=\"black\"/>\n",
       "<polygon fill=\"none\" points=\"607.93,-36.77 607.93,-57.77 676.93,-57.77 676.93,-36.77 607.93,-36.77\" stroke=\"black\"/>\n",
       "<text font-family=\"Times,serif\" font-size=\"14.00\" font-weight=\"bold\" text-anchor=\"start\" x=\"610.93\" y=\"-44.57\">sweared</text>\n",
       "<polygon fill=\"none\" points=\"676.93,-36.77 676.93,-57.77 725.93,-57.77 725.93,-36.77 676.93,-36.77\" stroke=\"black\"/>\n",
       "<text font-family=\"Times,serif\" font-size=\"14.00\" text-anchor=\"start\" x=\"679.93\" y=\"-43.57\">exact: 2</text>\n",
       "<polygon fill=\"none\" points=\"607.93,-15.77 607.93,-36.77 676.93,-36.77 676.93,-15.77 607.93,-15.77\" stroke=\"black\"/>\n",
       "<text font-family=\"Bukyvede\" font-size=\"14.00\" text-anchor=\"start\" x=\"610.93\" y=\"-22.57\">sweared </text>\n",
       "<polygon fill=\"none\" points=\"676.93,-15.77 676.93,-36.77 725.93,-36.77 725.93,-15.77 676.93,-15.77\" stroke=\"black\"/>\n",
       "<text font-family=\"Times,serif\" font-size=\"14.00\" text-anchor=\"start\" x=\"679.93\" y=\"-22.57\">Film</text>\n",
       "<polygon fill=\"none\" points=\"606.93,-14.77 606.93,-58.77 726.93,-58.77 726.93,-14.77 606.93,-14.77\" stroke=\"black\"/>\n",
       "</g>\n",
       "<!-- 3&#45;&gt;14 -->\n",
       "<g class=\"edge\" id=\"edge3\">\n",
       "<title>3-&gt;14</title>\n",
       "<path d=\"M477.85,-66.49C506.97,-61.89 538.58,-56.89 567.42,-52.33\" fill=\"none\" stroke=\"black\"/>\n",
       "<polygon fill=\"black\" points=\"568.17,-55.76 577.5,-50.74 567.08,-48.85 568.17,-55.76\" stroke=\"black\"/>\n",
       "<text font-family=\"Times,serif\" font-size=\"14.00\" text-anchor=\"middle\" x=\"530.27\" y=\"-65.57\">Film</text>\n",
       "</g>\n",
       "<!-- 5 -->\n",
       "<g class=\"node\" id=\"node5\">\n",
       "<title>5</title>\n",
       "<ellipse cx=\"936.73\" cy=\"-82.77\" fill=\"none\" rx=\"92.76\" ry=\"36.54\" stroke=\"black\"/>\n",
       "<polygon fill=\"none\" points=\"880.73,-82.77 880.73,-103.77 908.73,-103.77 908.73,-82.77 880.73,-82.77\" stroke=\"black\"/>\n",
       "<text font-family=\"Times,serif\" font-size=\"14.00\" font-weight=\"bold\" text-anchor=\"start\" x=\"883.73\" y=\"-90.57\">he</text>\n",
       "<polygon fill=\"none\" points=\"908.73,-82.77 908.73,-103.77 993.73,-103.77 993.73,-82.77 908.73,-82.77\" stroke=\"black\"/>\n",
       "<text font-family=\"Times,serif\" font-size=\"14.00\" text-anchor=\"start\" x=\"911.73\" y=\"-89.57\">exact: 3</text>\n",
       "<polygon fill=\"none\" points=\"880.73,-61.77 880.73,-82.77 908.73,-82.77 908.73,-61.77 880.73,-61.77\" stroke=\"black\"/>\n",
       "<text font-family=\"Bukyvede\" font-size=\"14.00\" text-anchor=\"start\" x=\"883.73\" y=\"-68.57\">he </text>\n",
       "<polygon fill=\"none\" points=\"908.73,-61.77 908.73,-82.77 993.73,-82.77 993.73,-61.77 908.73,-61.77\" stroke=\"black\"/>\n",
       "<text font-family=\"Times,serif\" font-size=\"14.00\" text-anchor=\"start\" x=\"911.73\" y=\"-68.57\">UK, US, Film</text>\n",
       "<polygon fill=\"none\" points=\"879.23,-60.77 879.23,-104.77 994.23,-104.77 994.23,-60.77 879.23,-60.77\" stroke=\"black\"/>\n",
       "</g>\n",
       "<!-- 4&#45;&gt;5 -->\n",
       "<g class=\"edge\" id=\"edge4\">\n",
       "<title>4-&gt;5</title>\n",
       "<path d=\"M753.4,-114.09C781.47,-109.27 812.82,-103.88 841.51,-98.95\" fill=\"none\" stroke=\"black\"/>\n",
       "<polygon fill=\"black\" points=\"842.27,-102.38 851.53,-97.23 841.08,-95.48 842.27,-102.38\" stroke=\"black\"/>\n",
       "<text font-family=\"Times,serif\" font-size=\"14.00\" text-anchor=\"middle\" x=\"803.6\" y=\"-111.57\">UK, US</text>\n",
       "</g>\n",
       "<!-- 6 -->\n",
       "<g class=\"node\" id=\"node6\">\n",
       "<title>6</title>\n",
       "<ellipse cx=\"1185.31\" cy=\"-128.77\" fill=\"none\" rx=\"74.91\" ry=\"36.54\" stroke=\"black\"/>\n",
       "<polygon fill=\"none\" points=\"1141.31,-128.77 1141.31,-149.77 1178.31,-149.77 1178.31,-128.77 1141.31,-128.77\" stroke=\"black\"/>\n",
       "<text font-family=\"Times,serif\" font-size=\"14.00\" font-weight=\"bold\" text-anchor=\"start\" x=\"1144.31\" y=\"-136.57\">had</text>\n",
       "<polygon fill=\"none\" points=\"1178.31,-128.77 1178.31,-149.77 1229.31,-149.77 1229.31,-128.77 1178.31,-128.77\" stroke=\"black\"/>\n",
       "<text font-family=\"Times,serif\" font-size=\"14.00\" text-anchor=\"start\" x=\"1181.31\" y=\"-135.57\">exact: 4</text>\n",
       "<polygon fill=\"none\" points=\"1141.31,-107.77 1141.31,-128.77 1178.31,-128.77 1178.31,-107.77 1141.31,-107.77\" stroke=\"black\"/>\n",
       "<text font-family=\"Bukyvede\" font-size=\"14.00\" text-anchor=\"start\" x=\"1144.31\" y=\"-114.57\">had </text>\n",
       "<polygon fill=\"none\" points=\"1178.31,-107.77 1178.31,-128.77 1229.31,-128.77 1229.31,-107.77 1178.31,-107.77\" stroke=\"black\"/>\n",
       "<text font-family=\"Times,serif\" font-size=\"14.00\" text-anchor=\"start\" x=\"1181.31\" y=\"-114.57\">UK, US</text>\n",
       "<polygon fill=\"none\" points=\"1140.31,-106.77 1140.31,-150.77 1230.31,-150.77 1230.31,-106.77 1140.31,-106.77\" stroke=\"black\"/>\n",
       "</g>\n",
       "<!-- 5&#45;&gt;6 -->\n",
       "<g class=\"edge\" id=\"edge5\">\n",
       "<title>5-&gt;6</title>\n",
       "<path d=\"M1020.87,-98.28C1048.02,-103.34 1078.09,-108.95 1104.95,-113.96\" fill=\"none\" stroke=\"black\"/>\n",
       "<polygon fill=\"black\" points=\"1104.61,-117.46 1115.08,-115.85 1105.89,-110.58 1104.61,-117.46\" stroke=\"black\"/>\n",
       "<text font-family=\"Times,serif\" font-size=\"14.00\" text-anchor=\"middle\" x=\"1069.86\" y=\"-114.57\">UK, US</text>\n",
       "</g>\n",
       "<!-- 15 -->\n",
       "<g class=\"node\" id=\"node15\">\n",
       "<title>15</title>\n",
       "<ellipse cx=\"1185.31\" cy=\"-36.77\" fill=\"none\" rx=\"71.34\" ry=\"36.54\" stroke=\"black\"/>\n",
       "<polygon fill=\"none\" points=\"1144.31,-36.77 1144.31,-57.77 1178.31,-57.77 1178.31,-36.77 1144.31,-36.77\" stroke=\"black\"/>\n",
       "<text font-family=\"Times,serif\" font-size=\"14.00\" font-weight=\"bold\" text-anchor=\"start\" x=\"1147.31\" y=\"-44.57\">got</text>\n",
       "<polygon fill=\"none\" points=\"1178.31,-36.77 1178.31,-57.77 1227.31,-57.77 1227.31,-36.77 1178.31,-36.77\" stroke=\"black\"/>\n",
       "<text font-family=\"Times,serif\" font-size=\"14.00\" text-anchor=\"start\" x=\"1181.31\" y=\"-43.57\">exact: 4</text>\n",
       "<polygon fill=\"none\" points=\"1144.31,-15.77 1144.31,-36.77 1178.31,-36.77 1178.31,-15.77 1144.31,-15.77\" stroke=\"black\"/>\n",
       "<text font-family=\"Bukyvede\" font-size=\"14.00\" text-anchor=\"start\" x=\"1147.31\" y=\"-22.57\">got </text>\n",
       "<polygon fill=\"none\" points=\"1178.31,-15.77 1178.31,-36.77 1227.31,-36.77 1227.31,-15.77 1178.31,-15.77\" stroke=\"black\"/>\n",
       "<text font-family=\"Times,serif\" font-size=\"14.00\" text-anchor=\"start\" x=\"1181.31\" y=\"-22.57\">Film</text>\n",
       "<polygon fill=\"none\" points=\"1142.81,-14.77 1142.81,-58.77 1227.81,-58.77 1227.81,-14.77 1142.81,-14.77\" stroke=\"black\"/>\n",
       "</g>\n",
       "<!-- 5&#45;&gt;15 -->\n",
       "<g class=\"edge\" id=\"edge6\">\n",
       "<title>5-&gt;15</title>\n",
       "<path d=\"M1020.87,-67.26C1049.01,-62.01 1080.29,-56.18 1107.88,-51.03\" fill=\"none\" stroke=\"black\"/>\n",
       "<polygon fill=\"black\" points=\"1108.68,-54.44 1117.87,-49.16 1107.4,-47.56 1108.68,-54.44\" stroke=\"black\"/>\n",
       "<text font-family=\"Times,serif\" font-size=\"14.00\" text-anchor=\"middle\" x=\"1069.86\" y=\"-65.57\">Film</text>\n",
       "</g>\n",
       "<!-- 7 -->\n",
       "<g class=\"node\" id=\"node7\">\n",
       "<title>7</title>\n",
       "<ellipse cx=\"1427.54\" cy=\"-82.77\" fill=\"none\" rx=\"86.03\" ry=\"36.54\" stroke=\"black\"/>\n",
       "<polygon fill=\"none\" points=\"1375.54,-82.77 1375.54,-103.77 1394.54,-103.77 1394.54,-82.77 1375.54,-82.77\" stroke=\"black\"/>\n",
       "<text font-family=\"Times,serif\" font-size=\"14.00\" font-weight=\"bold\" text-anchor=\"start\" x=\"1378.54\" y=\"-90.57\">a</text>\n",
       "<polygon fill=\"none\" points=\"1394.54,-82.77 1394.54,-103.77 1479.54,-103.77 1479.54,-82.77 1394.54,-82.77\" stroke=\"black\"/>\n",
       "<text font-family=\"Times,serif\" font-size=\"14.00\" text-anchor=\"start\" x=\"1397.54\" y=\"-89.57\">exact: 5</text>\n",
       "<polygon fill=\"none\" points=\"1375.54,-61.77 1375.54,-82.77 1394.54,-82.77 1394.54,-61.77 1375.54,-61.77\" stroke=\"black\"/>\n",
       "<text font-family=\"Bukyvede\" font-size=\"14.00\" text-anchor=\"start\" x=\"1378.54\" y=\"-68.57\">a </text>\n",
       "<polygon fill=\"none\" points=\"1394.54,-61.77 1394.54,-82.77 1479.54,-82.77 1479.54,-61.77 1394.54,-61.77\" stroke=\"black\"/>\n",
       "<text font-family=\"Times,serif\" font-size=\"14.00\" text-anchor=\"start\" x=\"1397.54\" y=\"-68.57\">UK, US, Film</text>\n",
       "<polygon fill=\"none\" points=\"1374.54,-60.77 1374.54,-104.77 1480.54,-104.77 1480.54,-60.77 1374.54,-60.77\" stroke=\"black\"/>\n",
       "</g>\n",
       "<!-- 6&#45;&gt;7 -->\n",
       "<g class=\"edge\" id=\"edge7\">\n",
       "<title>6-&gt;7</title>\n",
       "<path d=\"M1255.47,-115.53C1281.4,-110.56 1311.21,-104.85 1338.61,-99.61\" fill=\"none\" stroke=\"black\"/>\n",
       "<polygon fill=\"black\" points=\"1339.42,-103.02 1348.58,-97.7 1338.1,-96.14 1339.42,-103.02\" stroke=\"black\"/>\n",
       "<text font-family=\"Times,serif\" font-size=\"14.00\" text-anchor=\"middle\" x=\"1300.77\" y=\"-113.57\">UK, US</text>\n",
       "</g>\n",
       "<!-- 8 -->\n",
       "<g class=\"node\" id=\"node8\">\n",
       "<title>8</title>\n",
       "<ellipse cx=\"1693.6\" cy=\"-128.77\" fill=\"none\" rx=\"89.61\" ry=\"36.54\" stroke=\"black\"/>\n",
       "<polygon fill=\"none\" points=\"1639.6,-128.77 1639.6,-149.77 1688.6,-149.77 1688.6,-128.77 1639.6,-128.77\" stroke=\"black\"/>\n",
       "<text font-family=\"Times,serif\" font-size=\"14.00\" font-weight=\"bold\" text-anchor=\"start\" x=\"1642.6\" y=\"-136.57\">bogey</text>\n",
       "<polygon fill=\"none\" points=\"1688.6,-128.77 1688.6,-149.77 1748.6,-149.77 1748.6,-128.77 1688.6,-128.77\" stroke=\"black\"/>\n",
       "<text font-family=\"Times,serif\" font-size=\"14.00\" text-anchor=\"start\" x=\"1691.6\" y=\"-135.57\">exact: 6</text>\n",
       "<polygon fill=\"none\" points=\"1639.6,-107.77 1639.6,-128.77 1688.6,-128.77 1688.6,-107.77 1639.6,-107.77\" stroke=\"black\"/>\n",
       "<text font-family=\"Bukyvede\" font-size=\"14.00\" text-anchor=\"start\" x=\"1642.6\" y=\"-114.57\">bogey</text>\n",
       "<polygon fill=\"none\" points=\"1688.6,-107.77 1688.6,-128.77 1748.6,-128.77 1748.6,-107.77 1688.6,-107.77\" stroke=\"black\"/>\n",
       "<text font-family=\"Times,serif\" font-size=\"14.00\" text-anchor=\"start\" x=\"1691.6\" y=\"-114.57\">UK, Film</text>\n",
       "<polygon fill=\"none\" points=\"1638.1,-106.77 1638.1,-150.77 1749.1,-150.77 1749.1,-106.77 1638.1,-106.77\" stroke=\"black\"/>\n",
       "</g>\n",
       "<!-- 7&#45;&gt;8 -->\n",
       "<g class=\"edge\" id=\"edge8\">\n",
       "<title>7-&gt;8</title>\n",
       "<path d=\"M1507.76,-96.57C1536.97,-101.66 1570.31,-107.47 1600.56,-112.74\" fill=\"none\" stroke=\"black\"/>\n",
       "<polygon fill=\"black\" points=\"1600.23,-116.23 1610.69,-114.5 1601.43,-109.34 1600.23,-116.23\" stroke=\"black\"/>\n",
       "<text font-family=\"Times,serif\" font-size=\"14.00\" text-anchor=\"middle\" x=\"1558.8\" y=\"-113.57\">UK, Film</text>\n",
       "</g>\n",
       "<!-- 12 -->\n",
       "<g class=\"node\" id=\"node12\">\n",
       "<title>12</title>\n",
       "<ellipse cx=\"1693.6\" cy=\"-36.77\" fill=\"none\" rx=\"86.03\" ry=\"36.54\" stroke=\"black\"/>\n",
       "<polygon fill=\"none\" points=\"1641.6,-36.77 1641.6,-57.77 1696.6,-57.77 1696.6,-36.77 1641.6,-36.77\" stroke=\"black\"/>\n",
       "<text font-family=\"Times,serif\" font-size=\"14.00\" font-weight=\"bold\" text-anchor=\"start\" x=\"1644.6\" y=\"-44.57\">booger</text>\n",
       "<polygon fill=\"none\" points=\"1696.6,-36.77 1696.6,-57.77 1745.6,-57.77 1745.6,-36.77 1696.6,-36.77\" stroke=\"black\"/>\n",
       "<text font-family=\"Times,serif\" font-size=\"14.00\" text-anchor=\"start\" x=\"1699.6\" y=\"-43.57\">exact: 6</text>\n",
       "<polygon fill=\"none\" points=\"1641.6,-15.77 1641.6,-36.77 1696.6,-36.77 1696.6,-15.77 1641.6,-15.77\" stroke=\"black\"/>\n",
       "<text font-family=\"Bukyvede\" font-size=\"14.00\" text-anchor=\"start\" x=\"1644.6\" y=\"-22.57\">booger</text>\n",
       "<polygon fill=\"none\" points=\"1696.6,-15.77 1696.6,-36.77 1745.6,-36.77 1745.6,-15.77 1696.6,-15.77\" stroke=\"black\"/>\n",
       "<text font-family=\"Times,serif\" font-size=\"14.00\" text-anchor=\"start\" x=\"1699.6\" y=\"-22.57\">US</text>\n",
       "<polygon fill=\"none\" points=\"1640.6,-14.77 1640.6,-58.77 1746.6,-58.77 1746.6,-14.77 1640.6,-14.77\" stroke=\"black\"/>\n",
       "</g>\n",
       "<!-- 7&#45;&gt;12 -->\n",
       "<g class=\"edge\" id=\"edge9\">\n",
       "<title>7-&gt;12</title>\n",
       "<path d=\"M1507.76,-68.97C1537.92,-63.71 1572.48,-57.69 1603.5,-52.29\" fill=\"none\" stroke=\"black\"/>\n",
       "<polygon fill=\"black\" points=\"1604.18,-55.73 1613.43,-50.56 1602.98,-48.83 1604.18,-55.73\" stroke=\"black\"/>\n",
       "<text font-family=\"Times,serif\" font-size=\"14.00\" text-anchor=\"middle\" x=\"1558.8\" y=\"-68.57\">US</text>\n",
       "</g>\n",
       "<!-- 9 -->\n",
       "<g class=\"node\" id=\"node9\">\n",
       "<title>9</title>\n",
       "<ellipse cx=\"1954.72\" cy=\"-82.77\" fill=\"none\" rx=\"81.13\" ry=\"36.54\" stroke=\"black\"/>\n",
       "<polygon fill=\"none\" points=\"1906.72,-82.77 1906.72,-103.77 1918.72,-103.77 1918.72,-82.77 1906.72,-82.77\" stroke=\"black\"/>\n",
       "<text font-family=\"Times,serif\" font-size=\"14.00\" font-weight=\"bold\" text-anchor=\"start\" x=\"1909.72\" y=\"-90.57\">-</text>\n",
       "<polygon fill=\"none\" points=\"1918.72,-82.77 1918.72,-103.77 2003.72,-103.77 2003.72,-82.77 1918.72,-82.77\" stroke=\"black\"/>\n",
       "<text font-family=\"Times,serif\" font-size=\"14.00\" text-anchor=\"start\" x=\"1921.72\" y=\"-89.57\">exact: 7</text>\n",
       "<polygon fill=\"none\" points=\"1906.72,-61.77 1906.72,-82.77 1918.72,-82.77 1918.72,-61.77 1906.72,-61.77\" stroke=\"black\"/>\n",
       "<text font-family=\"Bukyvede\" font-size=\"14.00\" text-anchor=\"start\" x=\"1909.72\" y=\"-68.57\">-</text>\n",
       "<polygon fill=\"none\" points=\"1918.72,-61.77 1918.72,-82.77 2003.72,-82.77 2003.72,-61.77 1918.72,-61.77\" stroke=\"black\"/>\n",
       "<text font-family=\"Times,serif\" font-size=\"14.00\" text-anchor=\"start\" x=\"1921.72\" y=\"-68.57\">UK, US, Film</text>\n",
       "<polygon fill=\"none\" points=\"1905.22,-60.77 1905.22,-104.77 2004.22,-104.77 2004.22,-60.77 1905.22,-60.77\" stroke=\"black\"/>\n",
       "</g>\n",
       "<!-- 8&#45;&gt;9 -->\n",
       "<g class=\"edge\" id=\"edge10\">\n",
       "<title>8-&gt;9</title>\n",
       "<path d=\"M1776.24,-114.28C1805.69,-109.05 1838.99,-103.14 1868.73,-97.86\" fill=\"none\" stroke=\"black\"/>\n",
       "<polygon fill=\"black\" points=\"1869.43,-101.29 1878.67,-96.09 1868.21,-94.4 1869.43,-101.29\" stroke=\"black\"/>\n",
       "<text font-family=\"Times,serif\" font-size=\"14.00\" text-anchor=\"middle\" x=\"1828.41\" y=\"-111.57\">UK, Film</text>\n",
       "</g>\n",
       "<!-- 10 -->\n",
       "<g class=\"node\" id=\"node10\">\n",
       "<title>10</title>\n",
       "<ellipse cx=\"2234.94\" cy=\"-128.77\" fill=\"none\" rx=\"108.79\" ry=\"36.54\" stroke=\"black\"/>\n",
       "<polygon fill=\"none\" points=\"2166.94,-128.77 2166.94,-149.77 2242.94,-149.77 2242.94,-128.77 2166.94,-128.77\" stroke=\"black\"/>\n",
       "<text font-family=\"Times,serif\" font-size=\"14.00\" font-weight=\"bold\" text-anchor=\"start\" x=\"2169.94\" y=\"-136.57\">flavoured</text>\n",
       "<polygon fill=\"none\" points=\"2242.94,-128.77 2242.94,-149.77 2302.94,-149.77 2302.94,-128.77 2242.94,-128.77\" stroke=\"black\"/>\n",
       "<text font-family=\"Times,serif\" font-size=\"14.00\" text-anchor=\"start\" x=\"2245.94\" y=\"-135.57\">exact: 8</text>\n",
       "<polygon fill=\"none\" points=\"2166.94,-107.77 2166.94,-128.77 2242.94,-128.77 2242.94,-107.77 2166.94,-107.77\" stroke=\"black\"/>\n",
       "<text font-family=\"Bukyvede\" font-size=\"14.00\" text-anchor=\"start\" x=\"2169.94\" y=\"-114.57\">flavoured </text>\n",
       "<polygon fill=\"none\" points=\"2242.94,-107.77 2242.94,-128.77 2302.94,-128.77 2302.94,-107.77 2242.94,-107.77\" stroke=\"black\"/>\n",
       "<text font-family=\"Times,serif\" font-size=\"14.00\" text-anchor=\"start\" x=\"2245.94\" y=\"-114.57\">UK, Film</text>\n",
       "<polygon fill=\"none\" points=\"2165.94,-106.77 2165.94,-150.77 2303.94,-150.77 2303.94,-106.77 2165.94,-106.77\" stroke=\"black\"/>\n",
       "</g>\n",
       "<!-- 9&#45;&gt;10 -->\n",
       "<g class=\"edge\" id=\"edge11\">\n",
       "<title>9-&gt;10</title>\n",
       "<path d=\"M2031.38,-95.28C2060.71,-100.13 2094.83,-105.77 2126.61,-111.02\" fill=\"none\" stroke=\"black\"/>\n",
       "<polygon fill=\"black\" points=\"2126.4,-114.54 2136.83,-112.71 2127.54,-107.63 2126.4,-114.54\" stroke=\"black\"/>\n",
       "<text font-family=\"Times,serif\" font-size=\"14.00\" text-anchor=\"middle\" x=\"2081.04\" y=\"-110.57\">UK, Film</text>\n",
       "</g>\n",
       "<!-- 13 -->\n",
       "<g class=\"node\" id=\"node13\">\n",
       "<title>13</title>\n",
       "<ellipse cx=\"2234.94\" cy=\"-36.77\" fill=\"none\" rx=\"94.51\" ry=\"36.54\" stroke=\"black\"/>\n",
       "<polygon fill=\"none\" points=\"2176.94,-36.77 2176.94,-57.77 2243.94,-57.77 2243.94,-36.77 2176.94,-36.77\" stroke=\"black\"/>\n",
       "<text font-family=\"Times,serif\" font-size=\"14.00\" font-weight=\"bold\" text-anchor=\"start\" x=\"2179.94\" y=\"-44.57\">flavored</text>\n",
       "<polygon fill=\"none\" points=\"2243.94,-36.77 2243.94,-57.77 2292.94,-57.77 2292.94,-36.77 2243.94,-36.77\" stroke=\"black\"/>\n",
       "<text font-family=\"Times,serif\" font-size=\"14.00\" text-anchor=\"start\" x=\"2246.94\" y=\"-43.57\">exact: 8</text>\n",
       "<polygon fill=\"none\" points=\"2176.94,-15.77 2176.94,-36.77 2243.94,-36.77 2243.94,-15.77 2176.94,-15.77\" stroke=\"black\"/>\n",
       "<text font-family=\"Bukyvede\" font-size=\"14.00\" text-anchor=\"start\" x=\"2179.94\" y=\"-22.57\">flavored </text>\n",
       "<polygon fill=\"none\" points=\"2243.94,-15.77 2243.94,-36.77 2292.94,-36.77 2292.94,-15.77 2243.94,-15.77\" stroke=\"black\"/>\n",
       "<text font-family=\"Times,serif\" font-size=\"14.00\" text-anchor=\"start\" x=\"2246.94\" y=\"-22.57\">US</text>\n",
       "<polygon fill=\"none\" points=\"2175.94,-14.77 2175.94,-58.77 2293.94,-58.77 2293.94,-14.77 2175.94,-14.77\" stroke=\"black\"/>\n",
       "</g>\n",
       "<!-- 9&#45;&gt;13 -->\n",
       "<g class=\"edge\" id=\"edge12\">\n",
       "<title>9-&gt;13</title>\n",
       "<path d=\"M2031.38,-70.26C2064.04,-64.86 2102.63,-58.48 2137.33,-52.74\" fill=\"none\" stroke=\"black\"/>\n",
       "<polygon fill=\"black\" points=\"2138.19,-56.15 2147.48,-51.06 2137.04,-49.24 2138.19,-56.15\" stroke=\"black\"/>\n",
       "<text font-family=\"Times,serif\" font-size=\"14.00\" text-anchor=\"middle\" x=\"2081.04\" y=\"-69.57\">US</text>\n",
       "</g>\n",
       "<!-- 11 -->\n",
       "<g class=\"node\" id=\"node11\">\n",
       "<title>11</title>\n",
       "<ellipse cx=\"2558.99\" cy=\"-82.77\" fill=\"none\" rx=\"125.32\" ry=\"36.54\" stroke=\"black\"/>\n",
       "<polygon fill=\"none\" points=\"2479.99,-82.77 2479.99,-103.77 2553.99,-103.77 2553.99,-82.77 2479.99,-82.77\" stroke=\"black\"/>\n",
       "<text font-family=\"Times,serif\" font-size=\"14.00\" font-weight=\"bold\" text-anchor=\"start\" x=\"2482.99\" y=\"-90.57\">one once.</text>\n",
       "<polygon fill=\"none\" points=\"2553.99,-82.77 2553.99,-103.77 2638.99,-103.77 2638.99,-82.77 2553.99,-82.77\" stroke=\"black\"/>\n",
       "<text font-family=\"Times,serif\" font-size=\"14.00\" text-anchor=\"start\" x=\"2556.99\" y=\"-89.57\">exact: 9</text>\n",
       "<polygon fill=\"none\" points=\"2479.99,-61.77 2479.99,-82.77 2553.99,-82.77 2553.99,-61.77 2479.99,-61.77\" stroke=\"black\"/>\n",
       "<text font-family=\"Bukyvede\" font-size=\"14.00\" text-anchor=\"start\" x=\"2482.99\" y=\"-68.57\">one once.</text>\n",
       "<polygon fill=\"none\" points=\"2553.99,-61.77 2553.99,-82.77 2638.99,-82.77 2638.99,-61.77 2553.99,-61.77\" stroke=\"black\"/>\n",
       "<text font-family=\"Times,serif\" font-size=\"14.00\" text-anchor=\"start\" x=\"2556.99\" y=\"-68.57\">UK, US, Film</text>\n",
       "<polygon fill=\"none\" points=\"2478.49,-60.77 2478.49,-104.77 2639.49,-104.77 2639.49,-60.77 2478.49,-60.77\" stroke=\"black\"/>\n",
       "</g>\n",
       "<!-- 10&#45;&gt;11 -->\n",
       "<g class=\"edge\" id=\"edge13\">\n",
       "<title>10-&gt;11</title>\n",
       "<path d=\"M2335.63,-114.53C2367.36,-110 2402.81,-104.93 2435.93,-100.2\" fill=\"none\" stroke=\"black\"/>\n",
       "<polygon fill=\"black\" points=\"2436.73,-103.63 2446.13,-98.75 2435.74,-96.7 2436.73,-103.63\" stroke=\"black\"/>\n",
       "<text font-family=\"Times,serif\" font-size=\"14.00\" text-anchor=\"middle\" x=\"2388.83\" y=\"-113.57\">UK, Film</text>\n",
       "</g>\n",
       "<!-- 11&#45;&gt;2 -->\n",
       "<g class=\"edge\" id=\"edge14\">\n",
       "<title>11-&gt;2</title>\n",
       "<path d=\"M2684.4,-82.77C2719.55,-82.77 2756.88,-82.77 2788.8,-82.77\" fill=\"none\" stroke=\"black\"/>\n",
       "<polygon fill=\"black\" points=\"2788.96,-86.27 2798.96,-82.77 2788.96,-79.27 2788.96,-86.27\" stroke=\"black\"/>\n",
       "<text font-family=\"Times,serif\" font-size=\"14.00\" text-anchor=\"middle\" x=\"2741.65\" y=\"-86.57\">UK, US, Film</text>\n",
       "</g>\n",
       "<!-- 12&#45;&gt;9 -->\n",
       "<g class=\"edge\" id=\"edge15\">\n",
       "<title>12-&gt;9</title>\n",
       "<path d=\"M1773.4,-50.76C1803.5,-56.1 1837.94,-62.22 1868.61,-67.66\" fill=\"none\" stroke=\"black\"/>\n",
       "<polygon fill=\"black\" points=\"1868.39,-71.18 1878.85,-69.48 1869.61,-64.28 1868.39,-71.18\" stroke=\"black\"/>\n",
       "<text font-family=\"Times,serif\" font-size=\"14.00\" text-anchor=\"middle\" x=\"1828.41\" y=\"-69.57\">US</text>\n",
       "</g>\n",
       "<!-- 13&#45;&gt;11 -->\n",
       "<g class=\"edge\" id=\"edge16\">\n",
       "<title>13-&gt;11</title>\n",
       "<path d=\"M2324.36,-49.4C2358.75,-54.31 2398.71,-60.02 2435.77,-65.31\" fill=\"none\" stroke=\"black\"/>\n",
       "<polygon fill=\"black\" points=\"2435.74,-68.84 2446.13,-66.79 2436.73,-61.91 2435.74,-68.84\" stroke=\"black\"/>\n",
       "<text font-family=\"Times,serif\" font-size=\"14.00\" text-anchor=\"middle\" x=\"2388.83\" y=\"-65.57\">US</text>\n",
       "</g>\n",
       "<!-- 14&#45;&gt;5 -->\n",
       "<g class=\"edge\" id=\"edge17\">\n",
       "<title>14-&gt;5</title>\n",
       "<path d=\"M754.88,-51.7C782.61,-56.47 813.42,-61.76 841.64,-66.61\" fill=\"none\" stroke=\"black\"/>\n",
       "<polygon fill=\"black\" points=\"841.05,-70.06 851.5,-68.3 842.24,-63.16 841.05,-70.06\" stroke=\"black\"/>\n",
       "<text font-family=\"Times,serif\" font-size=\"14.00\" text-anchor=\"middle\" x=\"803.6\" y=\"-68.57\">Film</text>\n",
       "</g>\n",
       "<!-- 15&#45;&gt;7 -->\n",
       "<g class=\"edge\" id=\"edge18\">\n",
       "<title>15-&gt;7</title>\n",
       "<path d=\"M1252.59,-49.46C1279.18,-54.55 1310.2,-60.49 1338.62,-65.93\" fill=\"none\" stroke=\"black\"/>\n",
       "<polygon fill=\"black\" points=\"1338.08,-69.39 1348.56,-67.84 1339.39,-62.52 1338.08,-69.39\" stroke=\"black\"/>\n",
       "<text font-family=\"Times,serif\" font-size=\"14.00\" text-anchor=\"middle\" x=\"1300.77\" y=\"-66.57\">Film</text>\n",
       "</g>\n",
       "</g>\n",
       "</svg>"
      ],
      "text/plain": [
       "<IPython.core.display.SVG object>"
      ]
     },
     "metadata": {},
     "output_type": "display_data"
    }
   ],
   "source": [
    "graph = collate(collation, output='svg')"
   ]
  },
  {
   "cell_type": "markdown",
   "metadata": {
    "slideshow": {
     "slide_type": "slide"
    }
   },
   "source": [
    "The svg output method outputs a two-column table for each node in the variant graph. The upper left cell contains the `n` (normalized) value of the token and the upper right cell contains the number of witnesses that share that `n` value. Subsequent rows contains the `t` (textual, that is, diplomatic) value in the left column and the sigla of witnesses that attest that `t` value in the right column."
   ]
  },
  {
   "cell_type": "code",
   "execution_count": 33,
   "metadata": {
    "slideshow": {
     "slide_type": "slide"
    }
   },
   "outputs": [
    {
     "data": {
      "image/svg+xml": [
       "<svg height=\"174pt\" viewBox=\"0.00 0.00 1527.13 173.54\" width=\"1527pt\" xmlns=\"http://www.w3.org/2000/svg\" xmlns:xlink=\"http://www.w3.org/1999/xlink\">\n",
       "<g class=\"graph\" id=\"graph0\" transform=\"scale(1 1) rotate(0) translate(4 169.54)\">\n",
       "<title>%3</title>\n",
       "<polygon fill=\"white\" points=\"-4,4 -4,-169.54 1523.13,-169.54 1523.13,4 -4,4\" stroke=\"transparent\"/>\n",
       "<!-- 1 -->\n",
       "<g class=\"node\" id=\"node1\">\n",
       "<title>1</title>\n",
       "<ellipse cx=\"71.42\" cy=\"-82.77\" fill=\"none\" rx=\"71.34\" ry=\"21.84\" stroke=\"black\"/>\n",
       "<polygon fill=\"none\" points=\"30.42,-71.77 30.42,-92.77 64.42,-92.77 64.42,-71.77 30.42,-71.77\" stroke=\"black\"/>\n",
       "<text font-family=\"Times,serif\" font-size=\"14.00\" font-weight=\"bold\" text-anchor=\"start\" x=\"33.42\" y=\"-79.57\">start</text>\n",
       "<polygon fill=\"none\" points=\"64.42,-71.77 64.42,-92.77 113.42,-92.77 113.42,-71.77 64.42,-71.77\" stroke=\"black\"/>\n",
       "<text font-family=\"Times,serif\" font-size=\"14.00\" text-anchor=\"start\" x=\"67.42\" y=\"-78.57\">exact: 0</text>\n",
       "<polygon fill=\"none\" points=\"28.92,-71.27 28.92,-94.27 113.92,-94.27 113.92,-71.27 28.92,-71.27\" stroke=\"black\"/>\n",
       "</g>\n",
       "<!-- 3 -->\n",
       "<g class=\"node\" id=\"node3\">\n",
       "<title>3</title>\n",
       "<ellipse cx=\"370.27\" cy=\"-82.77\" fill=\"none\" rx=\"112.36\" ry=\"36.54\" stroke=\"black\"/>\n",
       "<polygon fill=\"none\" points=\"300.27,-82.77 300.27,-103.77 356.27,-103.77 356.27,-82.77 300.27,-82.77\" stroke=\"black\"/>\n",
       "<text font-family=\"Times,serif\" font-size=\"14.00\" font-weight=\"bold\" text-anchor=\"start\" x=\"303.27\" y=\"-90.57\">George</text>\n",
       "<polygon fill=\"none\" points=\"356.27,-82.77 356.27,-103.77 441.27,-103.77 441.27,-82.77 356.27,-82.77\" stroke=\"black\"/>\n",
       "<text font-family=\"Times,serif\" font-size=\"14.00\" text-anchor=\"start\" x=\"359.27\" y=\"-89.57\">exact: 1</text>\n",
       "<polygon fill=\"none\" points=\"300.27,-61.77 300.27,-82.77 356.27,-82.77 356.27,-61.77 300.27,-61.77\" stroke=\"black\"/>\n",
       "<text font-family=\"Bukyvede\" font-size=\"14.00\" text-anchor=\"start\" x=\"303.27\" y=\"-68.57\">George</text>\n",
       "<polygon fill=\"none\" points=\"356.27,-61.77 356.27,-82.77 441.27,-82.77 441.27,-61.77 356.27,-61.77\" stroke=\"black\"/>\n",
       "<text font-family=\"Times,serif\" font-size=\"14.00\" text-anchor=\"start\" x=\"359.27\" y=\"-68.57\">UK, US, Film</text>\n",
       "<polygon fill=\"none\" points=\"298.77,-60.77 298.77,-104.77 441.77,-104.77 441.77,-60.77 298.77,-60.77\" stroke=\"black\"/>\n",
       "</g>\n",
       "<!-- 1&#45;&gt;3 -->\n",
       "<g class=\"edge\" id=\"edge1\">\n",
       "<title>1-&gt;3</title>\n",
       "<path d=\"M143.14,-82.77C174.28,-82.77 211.77,-82.77 247.2,-82.77\" fill=\"none\" stroke=\"black\"/>\n",
       "<polygon fill=\"black\" points=\"247.62,-86.27 257.62,-82.77 247.62,-79.27 247.62,-86.27\" stroke=\"black\"/>\n",
       "<text font-family=\"Times,serif\" font-size=\"14.00\" text-anchor=\"middle\" x=\"200.34\" y=\"-86.57\">UK, US, Film</text>\n",
       "</g>\n",
       "<!-- 2 -->\n",
       "<g class=\"node\" id=\"node2\">\n",
       "<title>2</title>\n",
       "<ellipse cx=\"1451.95\" cy=\"-82.77\" fill=\"none\" rx=\"67.35\" ry=\"21.84\" stroke=\"black\"/>\n",
       "<polygon fill=\"none\" points=\"1413.95,-71.77 1413.95,-92.77 1441.95,-92.77 1441.95,-71.77 1413.95,-71.77\" stroke=\"black\"/>\n",
       "<text font-family=\"Times,serif\" font-size=\"14.00\" font-weight=\"bold\" text-anchor=\"start\" x=\"1416.95\" y=\"-79.57\">end</text>\n",
       "<polygon fill=\"none\" points=\"1441.95,-71.77 1441.95,-92.77 1490.95,-92.77 1490.95,-71.77 1441.95,-71.77\" stroke=\"black\"/>\n",
       "<text font-family=\"Times,serif\" font-size=\"14.00\" text-anchor=\"start\" x=\"1444.95\" y=\"-78.57\">exact: 4</text>\n",
       "<polygon fill=\"none\" points=\"1412.45,-71.27 1412.45,-94.27 1491.45,-94.27 1491.45,-71.27 1412.45,-71.27\" stroke=\"black\"/>\n",
       "</g>\n",
       "<!-- 4 -->\n",
       "<g class=\"node\" id=\"node4\">\n",
       "<title>4</title>\n",
       "<ellipse cx=\"654.91\" cy=\"-128.77\" fill=\"none\" rx=\"91.43\" ry=\"36.54\" stroke=\"black\"/>\n",
       "<polygon fill=\"none\" points=\"599.91,-128.77 599.91,-149.77 659.91,-149.77 659.91,-128.77 599.91,-128.77\" stroke=\"black\"/>\n",
       "<text font-family=\"Times,serif\" font-size=\"14.00\" font-weight=\"bold\" text-anchor=\"start\" x=\"602.91\" y=\"-136.57\">reckons</text>\n",
       "<polygon fill=\"none\" points=\"659.91,-128.77 659.91,-149.77 710.91,-149.77 710.91,-128.77 659.91,-128.77\" stroke=\"black\"/>\n",
       "<text font-family=\"Times,serif\" font-size=\"14.00\" text-anchor=\"start\" x=\"662.91\" y=\"-135.57\">exact: 2</text>\n",
       "<polygon fill=\"none\" points=\"599.91,-107.77 599.91,-128.77 659.91,-128.77 659.91,-107.77 599.91,-107.77\" stroke=\"black\"/>\n",
       "<text font-family=\"Bukyvede\" font-size=\"14.00\" text-anchor=\"start\" x=\"602.91\" y=\"-114.57\">reckons</text>\n",
       "<polygon fill=\"none\" points=\"659.91,-107.77 659.91,-128.77 710.91,-128.77 710.91,-107.77 659.91,-107.77\" stroke=\"black\"/>\n",
       "<text font-family=\"Times,serif\" font-size=\"14.00\" text-anchor=\"start\" x=\"662.91\" y=\"-114.57\">UK, US</text>\n",
       "<polygon fill=\"none\" points=\"598.41,-106.77 598.41,-150.77 711.41,-150.77 711.41,-106.77 598.41,-106.77\" stroke=\"black\"/>\n",
       "</g>\n",
       "<!-- 3&#45;&gt;4 -->\n",
       "<g class=\"edge\" id=\"edge2\">\n",
       "<title>3-&gt;4</title>\n",
       "<path d=\"M471.31,-99.05C500.15,-103.75 531.5,-108.85 559.96,-113.48\" fill=\"none\" stroke=\"black\"/>\n",
       "<polygon fill=\"black\" points=\"559.46,-116.94 569.89,-115.1 560.58,-110.03 559.46,-116.94\" stroke=\"black\"/>\n",
       "<text font-family=\"Times,serif\" font-size=\"14.00\" text-anchor=\"middle\" x=\"523.2\" y=\"-113.57\">UK, US</text>\n",
       "</g>\n",
       "<!-- 6 -->\n",
       "<g class=\"node\" id=\"node6\">\n",
       "<title>6</title>\n",
       "<ellipse cx=\"654.91\" cy=\"-36.77\" fill=\"none\" rx=\"86.03\" ry=\"36.54\" stroke=\"black\"/>\n",
       "<polygon fill=\"none\" points=\"602.91,-36.77 602.91,-57.77 657.91,-57.77 657.91,-36.77 602.91,-36.77\" stroke=\"black\"/>\n",
       "<text font-family=\"Times,serif\" font-size=\"14.00\" font-weight=\"bold\" text-anchor=\"start\" x=\"605.91\" y=\"-44.57\">swears</text>\n",
       "<polygon fill=\"none\" points=\"657.91,-36.77 657.91,-57.77 706.91,-57.77 706.91,-36.77 657.91,-36.77\" stroke=\"black\"/>\n",
       "<text font-family=\"Times,serif\" font-size=\"14.00\" text-anchor=\"start\" x=\"660.91\" y=\"-43.57\">exact: 2</text>\n",
       "<polygon fill=\"none\" points=\"602.91,-15.77 602.91,-36.77 657.91,-36.77 657.91,-15.77 602.91,-15.77\" stroke=\"black\"/>\n",
       "<text font-family=\"Bukyvede\" font-size=\"14.00\" text-anchor=\"start\" x=\"605.91\" y=\"-22.57\">swears</text>\n",
       "<polygon fill=\"none\" points=\"657.91,-15.77 657.91,-36.77 706.91,-36.77 706.91,-15.77 657.91,-15.77\" stroke=\"black\"/>\n",
       "<text font-family=\"Times,serif\" font-size=\"14.00\" text-anchor=\"start\" x=\"660.91\" y=\"-22.57\">Film</text>\n",
       "<polygon fill=\"none\" points=\"601.91,-14.77 601.91,-58.77 707.91,-58.77 707.91,-14.77 601.91,-14.77\" stroke=\"black\"/>\n",
       "</g>\n",
       "<!-- 3&#45;&gt;6 -->\n",
       "<g class=\"edge\" id=\"edge3\">\n",
       "<title>3-&gt;6</title>\n",
       "<path d=\"M471.31,-66.49C501.56,-61.56 534.57,-56.19 564.11,-51.38\" fill=\"none\" stroke=\"black\"/>\n",
       "<polygon fill=\"black\" points=\"564.67,-54.84 573.98,-49.78 563.55,-47.93 564.67,-54.84\" stroke=\"black\"/>\n",
       "<text font-family=\"Times,serif\" font-size=\"14.00\" text-anchor=\"middle\" x=\"523.2\" y=\"-65.57\">Film</text>\n",
       "</g>\n",
       "<!-- 5 -->\n",
       "<g class=\"node\" id=\"node5\">\n",
       "<title>5</title>\n",
       "<ellipse cx=\"1048.45\" cy=\"-82.77\" fill=\"none\" rx=\"221.15\" ry=\"51.74\" stroke=\"black\"/>\n",
       "<polygon fill=\"none\" points=\"901.45,-92.77 901.45,-113.77 1136.45,-113.77 1136.45,-92.77 901.45,-92.77\" stroke=\"black\"/>\n",
       "<text font-family=\"Times,serif\" font-size=\"14.00\" font-weight=\"bold\" text-anchor=\"start\" x=\"904.45\" y=\"-100.57\">he had a booger- flavoured one once.</text>\n",
       "<polygon fill=\"none\" points=\"1136.45,-92.77 1136.45,-113.77 1196.45,-113.77 1196.45,-92.77 1136.45,-92.77\" stroke=\"black\"/>\n",
       "<text font-family=\"Times,serif\" font-size=\"14.00\" text-anchor=\"start\" x=\"1139.45\" y=\"-99.57\">exact: 3</text>\n",
       "<polygon fill=\"none\" points=\"901.45,-71.77 901.45,-92.77 1136.45,-92.77 1136.45,-71.77 901.45,-71.77\" stroke=\"black\"/>\n",
       "<text font-family=\"Bukyvede\" font-size=\"14.00\" text-anchor=\"start\" x=\"904.45\" y=\"-78.57\">hehadabogey-flavouredoneonce.</text>\n",
       "<polygon fill=\"none\" points=\"1136.45,-71.77 1136.45,-92.77 1196.45,-92.77 1196.45,-71.77 1136.45,-71.77\" stroke=\"black\"/>\n",
       "<text font-family=\"Times,serif\" font-size=\"14.00\" text-anchor=\"start\" x=\"1139.45\" y=\"-78.57\">UK, Film</text>\n",
       "<polygon fill=\"none\" points=\"901.45,-50.77 901.45,-71.77 1136.45,-71.77 1136.45,-50.77 901.45,-50.77\" stroke=\"black\"/>\n",
       "<text font-family=\"Bukyvede\" font-size=\"14.00\" text-anchor=\"start\" x=\"904.45\" y=\"-57.57\">hehadabooger-flavoredoneonce.</text>\n",
       "<polygon fill=\"none\" points=\"1136.45,-50.77 1136.45,-71.77 1196.45,-71.77 1196.45,-50.77 1136.45,-50.77\" stroke=\"black\"/>\n",
       "<text font-family=\"Times,serif\" font-size=\"14.00\" text-anchor=\"start\" x=\"1139.45\" y=\"-57.57\">US</text>\n",
       "<polygon fill=\"none\" points=\"899.95,-50.27 899.95,-115.27 1196.95,-115.27 1196.95,-50.27 899.95,-50.27\" stroke=\"black\"/>\n",
       "</g>\n",
       "<!-- 4&#45;&gt;5 -->\n",
       "<g class=\"edge\" id=\"edge4\">\n",
       "<title>4-&gt;5</title>\n",
       "<path d=\"M742.81,-118.56C771.93,-115.14 805.75,-111.17 840.06,-107.13\" fill=\"none\" stroke=\"black\"/>\n",
       "<polygon fill=\"black\" points=\"840.71,-110.58 850.23,-105.94 839.89,-103.63 840.71,-110.58\" stroke=\"black\"/>\n",
       "<text font-family=\"Times,serif\" font-size=\"14.00\" text-anchor=\"middle\" x=\"786.63\" y=\"-118.57\">UK, US</text>\n",
       "</g>\n",
       "<!-- 5&#45;&gt;2 -->\n",
       "<g class=\"edge\" id=\"edge5\">\n",
       "<title>5-&gt;2</title>\n",
       "<path d=\"M1269.88,-82.77C1307.41,-82.77 1344.02,-82.77 1374.39,-82.77\" fill=\"none\" stroke=\"black\"/>\n",
       "<polygon fill=\"black\" points=\"1374.44,-86.27 1384.44,-82.77 1374.44,-79.27 1374.44,-86.27\" stroke=\"black\"/>\n",
       "<text font-family=\"Times,serif\" font-size=\"14.00\" text-anchor=\"middle\" x=\"1327.28\" y=\"-86.57\">UK, US, Film</text>\n",
       "</g>\n",
       "<!-- 6&#45;&gt;5 -->\n",
       "<g class=\"edge\" id=\"edge6\">\n",
       "<title>6-&gt;5</title>\n",
       "<path d=\"M738.47,-46.47C768.62,-50.01 804.22,-54.19 840.34,-58.44\" fill=\"none\" stroke=\"black\"/>\n",
       "<polygon fill=\"black\" points=\"840.2,-61.94 850.54,-59.64 841.02,-54.99 840.2,-61.94\" stroke=\"black\"/>\n",
       "<text font-family=\"Times,serif\" font-size=\"14.00\" text-anchor=\"middle\" x=\"786.63\" y=\"-58.57\">Film</text>\n",
       "</g>\n",
       "</g>\n",
       "</svg>"
      ],
      "text/plain": [
       "<IPython.core.display.SVG object>"
      ]
     },
     "metadata": {},
     "output_type": "display_data"
    }
   ],
   "source": [
    "#import the json library\n",
    "import json\n",
    "from collatex import *\n",
    "#create an instance of the CollateX engine\n",
    "collation = Collation()\n",
    "#assign to the variable `json_input` a JSON object with the pretokenized and normalized witnesses\n",
    "json_input = \"\"\"{ \"witnesses\": [\n",
    "        {\n",
    "            \"id\": \"UK\",\n",
    "            \"tokens\": [\n",
    "                {\"t\": \"George\"},\n",
    "                {\"t\": \"reckons\"},\n",
    "                {\"t\": \"he\"},\n",
    "                {\"t\": \"had\"},\n",
    "                {\"t\": \"a\"},\n",
    "                {\"t\": \"bogey\", \"n\": \"booger\"},\n",
    "                {\"t\": \"-\"},\n",
    "                {\"t\": \"flavoured\"},\n",
    "                {\"t\": \"one\"},\n",
    "                {\"t\": \"once\"},\n",
    "                {\"t\": \".\"}\n",
    "            ]\n",
    "        },\n",
    "        {\n",
    "            \"id\": \"US\",\n",
    "            \"tokens\": [\n",
    "                {\"t\": \"George\"},\n",
    "                {\"t\": \"reckons\"},\n",
    "                {\"t\": \"he\"},\n",
    "                {\"t\": \"had\"},\n",
    "                {\"t\": \"a\"},\n",
    "                {\"t\": \"booger\"},\n",
    "                {\"t\": \"-\"},\n",
    "                {\"t\": \"flavored\", \"n\": \"flavoured\"},\n",
    "                {\"t\": \"one\"},\n",
    "                {\"t\": \"once\"},\n",
    "                {\"t\": \".\"}\n",
    "            ]\n",
    "        },\n",
    "                {\n",
    "            \"id\": \"Film\",\n",
    "            \"tokens\": [\n",
    "                {\"t\": \"George\"},\n",
    "                {\"t\": \"swears\"},\n",
    "                {\"t\": \"he\"},\n",
    "                {\"t\": \"had\"},\n",
    "                {\"t\": \"a\"},\n",
    "                {\"t\": \"bogey\", \"n\": \"booger\"},\n",
    "                {\"t\": \"-\"},\n",
    "                {\"t\": \"flavoured\"},\n",
    "                {\"t\": \"one\"},\n",
    "                {\"t\": \"once\"},\n",
    "                {\"t\": \".\"}\n",
    "            ]\n",
    "        }\n",
    "    ]\n",
    "}\"\"\"\n",
    "#collate the witnesses passing the variable “json_input” as the first argument of the collate() function\n",
    "#store the result in a variable called 'graph'\n",
    "graph = collate(json.loads(json_input), output='svg')"
   ]
  },
  {
   "cell_type": "markdown",
   "metadata": {
    "slideshow": {
     "slide_type": "slide"
    }
   },
   "source": [
    "The SVG output creates `start` and `end` nodes that mark the beginnings and ends of all witnesses. All three witnesses attest the same readings for “George”, “he” and “a”. The readings diverge with respect to the color: Witness C attests “brown” and Witnesses A and B share an n value of “gray”, but with different t values (“gray” for Witness A and “grey” for Witness B). The edges are labeled accordings to the witnesses; the complete reading of any witness can be reconstructed by following the labeled edges for that witness.\n",
    "\n",
    "Separate information about `n` and `t` values is most important in cases involving complex custom normalization. For simpler output, the `svg_simple` type renders only the `n` values, and produces:"
   ]
  },
  {
   "cell_type": "code",
   "execution_count": 34,
   "metadata": {
    "slideshow": {
     "slide_type": "slide"
    }
   },
   "outputs": [
    {
     "data": {
      "image/svg+xml": [
       "<svg height=\"98pt\" viewBox=\"0.00 0.00 1646.36 98.00\" width=\"1646pt\" xmlns=\"http://www.w3.org/2000/svg\" xmlns:xlink=\"http://www.w3.org/1999/xlink\">\n",
       "<g class=\"graph\" id=\"graph0\" transform=\"scale(1 1) rotate(0) translate(4 94)\">\n",
       "<title>%3</title>\n",
       "<polygon fill=\"white\" points=\"-4,4 -4,-94 1642.36,-94 1642.36,4 -4,4\" stroke=\"transparent\"/>\n",
       "<!-- 1 -->\n",
       "<g class=\"node\" id=\"node1\">\n",
       "<title>1</title>\n",
       "<ellipse cx=\"27\" cy=\"-45\" fill=\"none\" rx=\"27\" ry=\"18\" stroke=\"black\"/>\n",
       "<text font-family=\"Times,serif\" font-size=\"14.00\" text-anchor=\"middle\" x=\"27\" y=\"-41.3\">start</text>\n",
       "</g>\n",
       "<!-- 3 -->\n",
       "<g class=\"node\" id=\"node3\">\n",
       "<title>3</title>\n",
       "<ellipse cx=\"205.4\" cy=\"-45\" fill=\"none\" rx=\"36.29\" ry=\"18\" stroke=\"black\"/>\n",
       "<text font-family=\"Times,serif\" font-size=\"14.00\" text-anchor=\"middle\" x=\"205.4\" y=\"-41.3\">George</text>\n",
       "</g>\n",
       "<!-- 1&#45;&gt;3 -->\n",
       "<g class=\"edge\" id=\"edge1\">\n",
       "<title>1-&gt;3</title>\n",
       "<path d=\"M54.03,-45C81.44,-45 125.16,-45 158.4,-45\" fill=\"none\" stroke=\"black\"/>\n",
       "<polygon fill=\"black\" points=\"158.8,-48.5 168.8,-45 158.8,-41.5 158.8,-48.5\" stroke=\"black\"/>\n",
       "<text font-family=\"Times,serif\" font-size=\"14.00\" text-anchor=\"middle\" x=\"111.5\" y=\"-48.8\">UK, US, Film</text>\n",
       "</g>\n",
       "<!-- 2 -->\n",
       "<g class=\"node\" id=\"node2\">\n",
       "<title>2</title>\n",
       "<ellipse cx=\"1611.36\" cy=\"-45\" fill=\"none\" rx=\"27\" ry=\"18\" stroke=\"black\"/>\n",
       "<text font-family=\"Times,serif\" font-size=\"14.00\" text-anchor=\"middle\" x=\"1611.36\" y=\"-41.3\">end</text>\n",
       "</g>\n",
       "<!-- 4 -->\n",
       "<g class=\"node\" id=\"node4\">\n",
       "<title>4</title>\n",
       "<ellipse cx=\"362.44\" cy=\"-72\" fill=\"none\" rx=\"38.19\" ry=\"18\" stroke=\"black\"/>\n",
       "<text font-family=\"Times,serif\" font-size=\"14.00\" text-anchor=\"middle\" x=\"362.44\" y=\"-68.3\">reckons</text>\n",
       "</g>\n",
       "<!-- 3&#45;&gt;4 -->\n",
       "<g class=\"edge\" id=\"edge2\">\n",
       "<title>3-&gt;4</title>\n",
       "<path d=\"M240.04,-50.86C262.33,-54.74 291.83,-59.88 316.17,-64.12\" fill=\"none\" stroke=\"black\"/>\n",
       "<polygon fill=\"black\" points=\"315.8,-67.6 326.25,-65.87 317,-60.71 315.8,-67.6\" stroke=\"black\"/>\n",
       "<text font-family=\"Times,serif\" font-size=\"14.00\" text-anchor=\"middle\" x=\"282.29\" y=\"-64.8\">UK, US</text>\n",
       "</g>\n",
       "<!-- 14 -->\n",
       "<g class=\"node\" id=\"node14\">\n",
       "<title>14</title>\n",
       "<ellipse cx=\"362.44\" cy=\"-18\" fill=\"none\" rx=\"39.79\" ry=\"18\" stroke=\"black\"/>\n",
       "<text font-family=\"Times,serif\" font-size=\"14.00\" text-anchor=\"middle\" x=\"362.44\" y=\"-14.3\">sweared</text>\n",
       "</g>\n",
       "<!-- 3&#45;&gt;14 -->\n",
       "<g class=\"edge\" id=\"edge3\">\n",
       "<title>3-&gt;14</title>\n",
       "<path d=\"M239.7,-38.66C246.35,-37.42 253.29,-36.15 259.79,-35 277.76,-31.82 297.54,-28.47 314.85,-25.6\" fill=\"none\" stroke=\"black\"/>\n",
       "<polygon fill=\"black\" points=\"315.42,-29.05 324.71,-23.97 314.28,-22.14 315.42,-29.05\" stroke=\"black\"/>\n",
       "<text font-family=\"Times,serif\" font-size=\"14.00\" text-anchor=\"middle\" x=\"282.29\" y=\"-38.8\">Film</text>\n",
       "</g>\n",
       "<!-- 5 -->\n",
       "<g class=\"node\" id=\"node5\">\n",
       "<title>5</title>\n",
       "<ellipse cx=\"510.09\" cy=\"-45\" fill=\"none\" rx=\"27\" ry=\"18\" stroke=\"black\"/>\n",
       "<text font-family=\"Times,serif\" font-size=\"14.00\" text-anchor=\"middle\" x=\"510.09\" y=\"-41.3\">he</text>\n",
       "</g>\n",
       "<!-- 4&#45;&gt;5 -->\n",
       "<g class=\"edge\" id=\"edge4\">\n",
       "<title>4-&gt;5</title>\n",
       "<path d=\"M398.33,-65.53C421.1,-61.31 450.73,-55.82 473.62,-51.58\" fill=\"none\" stroke=\"black\"/>\n",
       "<polygon fill=\"black\" points=\"474.41,-54.99 483.61,-49.72 473.14,-48.1 474.41,-54.99\" stroke=\"black\"/>\n",
       "<text font-family=\"Times,serif\" font-size=\"14.00\" text-anchor=\"middle\" x=\"442.59\" y=\"-63.8\">UK, US</text>\n",
       "</g>\n",
       "<!-- 6 -->\n",
       "<g class=\"node\" id=\"node6\">\n",
       "<title>6</title>\n",
       "<ellipse cx=\"645.09\" cy=\"-72\" fill=\"none\" rx=\"27\" ry=\"18\" stroke=\"black\"/>\n",
       "<text font-family=\"Times,serif\" font-size=\"14.00\" text-anchor=\"middle\" x=\"645.09\" y=\"-68.3\">had</text>\n",
       "</g>\n",
       "<!-- 5&#45;&gt;6 -->\n",
       "<g class=\"edge\" id=\"edge5\">\n",
       "<title>5-&gt;6</title>\n",
       "<path d=\"M536.1,-50.08C556.59,-54.24 585.83,-60.17 608.72,-64.82\" fill=\"none\" stroke=\"black\"/>\n",
       "<polygon fill=\"black\" points=\"608.23,-68.29 618.73,-66.85 609.63,-61.43 608.23,-68.29\" stroke=\"black\"/>\n",
       "<text font-family=\"Times,serif\" font-size=\"14.00\" text-anchor=\"middle\" x=\"577.59\" y=\"-65.8\">UK, US</text>\n",
       "</g>\n",
       "<!-- 15 -->\n",
       "<g class=\"node\" id=\"node15\">\n",
       "<title>15</title>\n",
       "<ellipse cx=\"645.09\" cy=\"-18\" fill=\"none\" rx=\"27\" ry=\"18\" stroke=\"black\"/>\n",
       "<text font-family=\"Times,serif\" font-size=\"14.00\" text-anchor=\"middle\" x=\"645.09\" y=\"-14.3\">got</text>\n",
       "</g>\n",
       "<!-- 5&#45;&gt;15 -->\n",
       "<g class=\"edge\" id=\"edge6\">\n",
       "<title>5-&gt;15</title>\n",
       "<path d=\"M535.72,-39.24C542.02,-37.81 548.8,-36.31 555.09,-35 572.64,-31.33 592.22,-27.56 608.53,-24.5\" fill=\"none\" stroke=\"black\"/>\n",
       "<polygon fill=\"black\" points=\"609.53,-27.87 618.72,-22.6 608.25,-20.99 609.53,-27.87\" stroke=\"black\"/>\n",
       "<text font-family=\"Times,serif\" font-size=\"14.00\" text-anchor=\"middle\" x=\"577.59\" y=\"-38.8\">Film</text>\n",
       "</g>\n",
       "<!-- 7 -->\n",
       "<g class=\"node\" id=\"node7\">\n",
       "<title>7</title>\n",
       "<ellipse cx=\"780.09\" cy=\"-45\" fill=\"none\" rx=\"27\" ry=\"18\" stroke=\"black\"/>\n",
       "<text font-family=\"Times,serif\" font-size=\"14.00\" text-anchor=\"middle\" x=\"780.09\" y=\"-41.3\">a</text>\n",
       "</g>\n",
       "<!-- 6&#45;&gt;7 -->\n",
       "<g class=\"edge\" id=\"edge7\">\n",
       "<title>6-&gt;7</title>\n",
       "<path d=\"M671.1,-66.92C691.59,-62.76 720.83,-56.83 743.72,-52.18\" fill=\"none\" stroke=\"black\"/>\n",
       "<polygon fill=\"black\" points=\"744.63,-55.57 753.73,-50.15 743.23,-48.71 744.63,-55.57\" stroke=\"black\"/>\n",
       "<text font-family=\"Times,serif\" font-size=\"14.00\" text-anchor=\"middle\" x=\"712.59\" y=\"-65.8\">UK, US</text>\n",
       "</g>\n",
       "<!-- 8 -->\n",
       "<g class=\"node\" id=\"node8\">\n",
       "<title>8</title>\n",
       "<ellipse cx=\"932.18\" cy=\"-72\" fill=\"none\" rx=\"32.49\" ry=\"18\" stroke=\"black\"/>\n",
       "<text font-family=\"Times,serif\" font-size=\"14.00\" text-anchor=\"middle\" x=\"932.18\" y=\"-68.3\">bogey</text>\n",
       "</g>\n",
       "<!-- 7&#45;&gt;8 -->\n",
       "<g class=\"edge\" id=\"edge8\">\n",
       "<title>7-&gt;8</title>\n",
       "<path d=\"M806.55,-49.58C829.69,-53.74 864.21,-59.95 891.06,-64.78\" fill=\"none\" stroke=\"black\"/>\n",
       "<polygon fill=\"black\" points=\"890.47,-68.23 900.93,-66.56 891.71,-61.34 890.47,-68.23\" stroke=\"black\"/>\n",
       "<text font-family=\"Times,serif\" font-size=\"14.00\" text-anchor=\"middle\" x=\"852.09\" y=\"-65.8\">UK, Film</text>\n",
       "</g>\n",
       "<!-- 12 -->\n",
       "<g class=\"node\" id=\"node12\">\n",
       "<title>12</title>\n",
       "<ellipse cx=\"932.18\" cy=\"-18\" fill=\"none\" rx=\"35.19\" ry=\"18\" stroke=\"black\"/>\n",
       "<text font-family=\"Times,serif\" font-size=\"14.00\" text-anchor=\"middle\" x=\"932.18\" y=\"-14.3\">booger</text>\n",
       "</g>\n",
       "<!-- 7&#45;&gt;12 -->\n",
       "<g class=\"edge\" id=\"edge9\">\n",
       "<title>7-&gt;12</title>\n",
       "<path d=\"M805.16,-37.85C811.6,-36.1 818.57,-34.34 825.09,-33 845.47,-28.8 868.31,-25.4 887.55,-22.91\" fill=\"none\" stroke=\"black\"/>\n",
       "<polygon fill=\"black\" points=\"888.06,-26.38 897.55,-21.66 887.19,-19.43 888.06,-26.38\" stroke=\"black\"/>\n",
       "<text font-family=\"Times,serif\" font-size=\"14.00\" text-anchor=\"middle\" x=\"852.09\" y=\"-36.8\">US</text>\n",
       "</g>\n",
       "<!-- 9 -->\n",
       "<g class=\"node\" id=\"node9\">\n",
       "<title>9</title>\n",
       "<ellipse cx=\"1084.28\" cy=\"-45\" fill=\"none\" rx=\"27\" ry=\"18\" stroke=\"black\"/>\n",
       "<text font-family=\"Times,serif\" font-size=\"14.00\" text-anchor=\"middle\" x=\"1084.28\" y=\"-41.3\">-</text>\n",
       "</g>\n",
       "<!-- 8&#45;&gt;9 -->\n",
       "<g class=\"edge\" id=\"edge10\">\n",
       "<title>8-&gt;9</title>\n",
       "<path d=\"M963.2,-66.6C987.56,-62.22 1021.97,-56.03 1047.71,-51.4\" fill=\"none\" stroke=\"black\"/>\n",
       "<polygon fill=\"black\" points=\"1048.59,-54.8 1057.81,-49.58 1047.35,-47.91 1048.59,-54.8\" stroke=\"black\"/>\n",
       "<text font-family=\"Times,serif\" font-size=\"14.00\" text-anchor=\"middle\" x=\"1012.28\" y=\"-65.8\">UK, Film</text>\n",
       "</g>\n",
       "<!-- 10 -->\n",
       "<g class=\"node\" id=\"node10\">\n",
       "<title>10</title>\n",
       "<ellipse cx=\"1245.48\" cy=\"-72\" fill=\"none\" rx=\"44.39\" ry=\"18\" stroke=\"black\"/>\n",
       "<text font-family=\"Times,serif\" font-size=\"14.00\" text-anchor=\"middle\" x=\"1245.48\" y=\"-68.3\">flavoured</text>\n",
       "</g>\n",
       "<!-- 9&#45;&gt;10 -->\n",
       "<g class=\"edge\" id=\"edge11\">\n",
       "<title>9-&gt;10</title>\n",
       "<path d=\"M1110.86,-49.34C1133.32,-53.15 1166.66,-58.8 1194.42,-63.51\" fill=\"none\" stroke=\"black\"/>\n",
       "<polygon fill=\"black\" points=\"1193.91,-66.97 1204.36,-65.2 1195.08,-60.07 1193.91,-66.97\" stroke=\"black\"/>\n",
       "<text font-family=\"Times,serif\" font-size=\"14.00\" text-anchor=\"middle\" x=\"1156.28\" y=\"-63.8\">UK, Film</text>\n",
       "</g>\n",
       "<!-- 13 -->\n",
       "<g class=\"node\" id=\"node13\">\n",
       "<title>13</title>\n",
       "<ellipse cx=\"1245.48\" cy=\"-18\" fill=\"none\" rx=\"40.09\" ry=\"18\" stroke=\"black\"/>\n",
       "<text font-family=\"Times,serif\" font-size=\"14.00\" text-anchor=\"middle\" x=\"1245.48\" y=\"-14.3\">flavored</text>\n",
       "</g>\n",
       "<!-- 9&#45;&gt;13 -->\n",
       "<g class=\"edge\" id=\"edge12\">\n",
       "<title>9-&gt;13</title>\n",
       "<path d=\"M1109.35,-37.8C1115.78,-36.05 1122.76,-34.31 1129.28,-33 1150.93,-28.66 1175.14,-25.29 1195.75,-22.85\" fill=\"none\" stroke=\"black\"/>\n",
       "<polygon fill=\"black\" points=\"1196.32,-26.31 1205.86,-21.69 1195.53,-19.35 1196.32,-26.31\" stroke=\"black\"/>\n",
       "<text font-family=\"Times,serif\" font-size=\"14.00\" text-anchor=\"middle\" x=\"1156.28\" y=\"-36.8\">US</text>\n",
       "</g>\n",
       "<!-- 11 -->\n",
       "<g class=\"node\" id=\"node11\">\n",
       "<title>11</title>\n",
       "<ellipse cx=\"1424.52\" cy=\"-45\" fill=\"none\" rx=\"44.69\" ry=\"18\" stroke=\"black\"/>\n",
       "<text font-family=\"Times,serif\" font-size=\"14.00\" text-anchor=\"middle\" x=\"1424.52\" y=\"-41.3\">one once.</text>\n",
       "</g>\n",
       "<!-- 10&#45;&gt;11 -->\n",
       "<g class=\"edge\" id=\"edge13\">\n",
       "<title>10-&gt;11</title>\n",
       "<path d=\"M1287.09,-65.81C1312.35,-61.95 1345.05,-56.97 1372.1,-52.84\" fill=\"none\" stroke=\"black\"/>\n",
       "<polygon fill=\"black\" points=\"1372.81,-56.27 1382.17,-51.31 1371.76,-49.35 1372.81,-56.27\" stroke=\"black\"/>\n",
       "<text font-family=\"Times,serif\" font-size=\"14.00\" text-anchor=\"middle\" x=\"1334.67\" y=\"-65.8\">UK, Film</text>\n",
       "</g>\n",
       "<!-- 11&#45;&gt;2 -->\n",
       "<g class=\"edge\" id=\"edge14\">\n",
       "<title>11-&gt;2</title>\n",
       "<path d=\"M1469.79,-45C1501.7,-45 1544.24,-45 1574.13,-45\" fill=\"none\" stroke=\"black\"/>\n",
       "<polygon fill=\"black\" points=\"1574.14,-48.5 1584.14,-45 1574.14,-41.5 1574.14,-48.5\" stroke=\"black\"/>\n",
       "<text font-family=\"Times,serif\" font-size=\"14.00\" text-anchor=\"middle\" x=\"1526.86\" y=\"-48.8\">UK, US, Film</text>\n",
       "</g>\n",
       "<!-- 12&#45;&gt;9 -->\n",
       "<g class=\"edge\" id=\"edge15\">\n",
       "<title>12-&gt;9</title>\n",
       "<path d=\"M966.82,-21.66C987.77,-24.21 1015.23,-28.04 1039.28,-33 1042.54,-33.67 1045.91,-34.45 1049.27,-35.27\" fill=\"none\" stroke=\"black\"/>\n",
       "<polygon fill=\"black\" points=\"1048.65,-38.72 1059.2,-37.85 1050.4,-31.95 1048.65,-38.72\" stroke=\"black\"/>\n",
       "<text font-family=\"Times,serif\" font-size=\"14.00\" text-anchor=\"middle\" x=\"1012.28\" y=\"-36.8\">US</text>\n",
       "</g>\n",
       "<!-- 13&#45;&gt;11 -->\n",
       "<g class=\"edge\" id=\"edge16\">\n",
       "<title>13-&gt;11</title>\n",
       "<path d=\"M1284.11,-23.42C1306.63,-26.7 1335.8,-31 1361.67,-35 1365.27,-35.56 1368.98,-36.14 1372.72,-36.73\" fill=\"none\" stroke=\"black\"/>\n",
       "<polygon fill=\"black\" points=\"1372.19,-40.19 1382.61,-38.3 1373.29,-33.27 1372.19,-40.19\" stroke=\"black\"/>\n",
       "<text font-family=\"Times,serif\" font-size=\"14.00\" text-anchor=\"middle\" x=\"1334.67\" y=\"-38.8\">US</text>\n",
       "</g>\n",
       "<!-- 14&#45;&gt;5 -->\n",
       "<g class=\"edge\" id=\"edge17\">\n",
       "<title>14-&gt;5</title>\n",
       "<path d=\"M400.76,-23.06C420.04,-25.88 443.9,-29.69 465.09,-34 468.15,-34.62 471.32,-35.32 474.5,-36.05\" fill=\"none\" stroke=\"black\"/>\n",
       "<polygon fill=\"black\" points=\"473.97,-39.52 484.51,-38.45 475.6,-32.71 473.97,-39.52\" stroke=\"black\"/>\n",
       "<text font-family=\"Times,serif\" font-size=\"14.00\" text-anchor=\"middle\" x=\"442.59\" y=\"-37.8\">Film</text>\n",
       "</g>\n",
       "<!-- 15&#45;&gt;7 -->\n",
       "<g class=\"edge\" id=\"edge18\">\n",
       "<title>15-&gt;7</title>\n",
       "<path d=\"M671.45,-22.6C689.28,-25.9 713.68,-30.53 735.09,-35 738.13,-35.64 741.29,-36.32 744.46,-37.01\" fill=\"none\" stroke=\"black\"/>\n",
       "<polygon fill=\"black\" points=\"743.93,-40.48 754.45,-39.24 745.45,-33.65 743.93,-40.48\" stroke=\"black\"/>\n",
       "<text font-family=\"Times,serif\" font-size=\"14.00\" text-anchor=\"middle\" x=\"712.59\" y=\"-38.8\">Film</text>\n",
       "</g>\n",
       "</g>\n",
       "</svg>"
      ],
      "text/plain": [
       "<IPython.core.display.SVG object>"
      ]
     },
     "metadata": {},
     "output_type": "display_data"
    }
   ],
   "source": [
    "#create an instance of the CollateX engine\n",
    "collation = Collation()\n",
    "#add witnesses to the CollateX instance\n",
    "collation.add_plain_witness( \"UK\", \"George reckons he had a bogey-flavoured one once.\")\n",
    "collation.add_plain_witness( \"US\", \"George reckons he had a booger-flavored one once.\" )\n",
    "collation.add_plain_witness( \"Film\", \"George sweared he got a bogey-flavoured one once.\" )\n",
    "#collate the witnesses and store the result in a variable called 'graph'\n",
    "graph = collate(collation, output='svg_simple')"
   ]
  },
  {
   "cell_type": "markdown",
   "metadata": {
    "slideshow": {
     "slide_type": "slide"
    }
   },
   "source": [
    "\n",
    "### Supplementary output parameters\n",
    "\n",
    "#### The `layout` parameter\n",
    "\n",
    "The `layout` parameter controls whether table output is “horizontal” (which is the default) or “vertical”. It is relevant only for output types `table` and `html`. Otherwise it is ignored: `html2` output is always vertical, and the other output types are not tabular.\n",
    "\n",
    "#### The `indent` parameter\n",
    "\n",
    "The `indent` parameter controls whether TEI-XML output is pretty-printed. The default is to serialize the entire XML output in a single line; setting `indent` to any value other than `None` will cause the output to be pretty-printed instead. The `indent` parameter is ignored for all methods except `tei`.\n",
    "\n",
    "### Summary of output types\n",
    "\n",
    "In the following table, possible values of the `output` parameter are listed in the left column, and their ability to combine with the `layout`, and `indent` parameters is indicated (“yes” ~ “no”) in the other columns.\n",
    "\n",
    "`output` | `layout` | `indent`\n",
    "----|----|----|----|----\n",
    "**table** | yes | no\n",
    "**html** |  yes | no\n",
    "**html2** | no | no\n",
    "**svg_simple** | no | no\n",
    "**svg** |  no | no\n",
    "**xml** | no | no\n",
    "**tei** | no | yes\n",
    "\n"
   ]
  },
  {
   "cell_type": "markdown",
   "metadata": {
    "slideshow": {
     "slide_type": "fragment"
    }
   },
   "source": [
    "## Exercise 2\n",
    "\n",
    "In this tutorial we have used the _Harry Potter_ example. Now try to produce a JSON or TEI output from the Tolkien’s examples that we've been using in the [previous notebook](). The data are stored in `data/Tolkien`."
   ]
  }
 ],
 "metadata": {
  "anaconda-cloud": {},
  "celltoolbar": "Slideshow",
  "kernelspec": {
   "display_name": "Python 3",
   "language": "python",
   "name": "python3"
  },
  "language_info": {
   "codemirror_mode": {
    "name": "ipython",
    "version": 3
   },
   "file_extension": ".py",
   "mimetype": "text/x-python",
   "name": "python",
   "nbconvert_exporter": "python",
   "pygments_lexer": "ipython3",
   "version": "3.7.3"
  }
 },
 "nbformat": 4,
 "nbformat_minor": 1
}
