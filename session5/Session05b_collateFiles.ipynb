{
 "cells": [
  {
   "cell_type": "markdown",
   "metadata": {
    "slideshow": {
     "slide_type": "slide"
    }
   },
   "source": [
    "# Session 5b - Collate with CollateX (reading files)\n",
    "\n"
   ]
  },
  {
   "cell_type": "markdown",
   "metadata": {
    "slideshow": {
     "slide_type": "slide"
    }
   },
   "source": [
    "In this exercise, follow the instructions here: read the Markdown cells and execute the Code cells (the ones with In + a number on their left).\n",
    "\n",
    "Not sure how to execute cells in a Notebook? Check the [Jupyter Notebook tutorial](../02_PrepareEnvironment/JupyterNotebook.ipynb)."
   ]
  },
  {
   "cell_type": "markdown",
   "metadata": {
    "slideshow": {
     "slide_type": "slide"
    }
   },
   "source": [
    "### Delete the outputs\n",
    "\n",
    "In this notebook, you may already have outputs - the results of the exercises. We want to start from scratch, let's delete the outputs!\n",
    "\n",
    "- Go to the menu 'Kernel'\n",
    "- click on 'Restart & Clear Outputs' and confirm when Jupyter asks for it\n",
    "- Wait a few seconds, a blue string appears telling 'Kernel ready' ('Noyau prêt'); if you don't see it, don't worry, it is so quick that you might have lost it. But the Notebook is ready again.\n",
    "\n"
   ]
  },
  {
   "cell_type": "markdown",
   "metadata": {
    "slideshow": {
     "slide_type": "subslide"
    }
   },
   "source": [
    "\n",
    "### Update Collatex\n",
    "\n",
    "We want to make sure that we are using the latest version of CollateX. You don't need to do it every time, but it is best to do it regularly - so we are running this at the beginning of the notebook:\n"
   ]
  },
  {
   "cell_type": "code",
   "execution_count": null,
   "metadata": {},
   "outputs": [],
   "source": [
    "!pip install --upgrade collatex\n"
   ]
  },
  {
   "cell_type": "markdown",
   "metadata": {
    "slideshow": {
     "slide_type": "slide"
    }
   },
   "source": [
    "## 1. First exercise (Tolkien texts). Read from files"
   ]
  },
  {
   "cell_type": "markdown",
   "metadata": {
    "slideshow": {
     "slide_type": "slide"
    }
   },
   "source": [
    "### Read text from files\n",
    "\n",
    "Now we want to open the texts in \"../data/Tolkien\" and let Python read them. The Pyftan fragment is the first manuscript fragment of the story that will become *The Hobbit* (published in 1937) and then there is a typescript and a late edition (1995).\n",
    "\n",
    "The code below is how Python read a file: it is not CollateX code, but general Python way of doing things. You have already seen it in the [introduction to Python](https://github.com/automaticCollationLausanne2020/Materials/blob/master/session2/Session02_python_introduction.ipynb). \n",
    "\n",
    "Each file is opened, read (using a specific character encoding) and stored in a variable ('witness_1859', etc.). Remember: the name of the variable cannot contain whitespaces!"
   ]
  },
  {
   "cell_type": "code",
   "execution_count": null,
   "metadata": {},
   "outputs": [],
   "source": [
    "pyftanFrgmt = open( \"../data/Tolkien/bilbo-pryftan-frgmt.txt\", encoding='utf-8' ).read()\n",
    "bladorthinTpscr = open( \"../data/Tolkien/bilbo-bladorthin-tpscr.txt\", encoding='utf-8' ).read()\n",
    "edition1995 = open( \"../data/Tolkien/bilbo-edition-1995.txt\", encoding='utf-8' ).read()"
   ]
  },
  {
   "cell_type": "markdown",
   "metadata": {
    "slideshow": {
     "slide_type": "subslide"
    }
   },
   "source": [
    "Just to be sure that the text in the files has been stored, try to print one of them."
   ]
  },
  {
   "cell_type": "code",
   "execution_count": null,
   "metadata": {},
   "outputs": [],
   "source": [
    "print(bladorthinTpscr)"
   ]
  },
  {
   "cell_type": "markdown",
   "metadata": {
    "slideshow": {
     "slide_type": "subslide"
    }
   },
   "source": [
    "Or another one"
   ]
  },
  {
   "cell_type": "code",
   "execution_count": null,
   "metadata": {},
   "outputs": [],
   "source": [
    "print(edition1995)"
   ]
  },
  {
   "cell_type": "markdown",
   "metadata": {
    "slideshow": {
     "slide_type": "slide"
    }
   },
   "source": [
    "### Import CollateX and create a collation object"
   ]
  },
  {
   "cell_type": "markdown",
   "metadata": {},
   "source": [
    "Import the *collatex* Python library"
   ]
  },
  {
   "cell_type": "code",
   "execution_count": null,
   "metadata": {},
   "outputs": [],
   "source": [
    "from collatex import *"
   ]
  },
  {
   "cell_type": "markdown",
   "metadata": {},
   "source": [
    "Create a collation object"
   ]
  },
  {
   "cell_type": "code",
   "execution_count": null,
   "metadata": {},
   "outputs": [],
   "source": [
    "collation = Collation()"
   ]
  },
  {
   "cell_type": "markdown",
   "metadata": {
    "slideshow": {
     "slide_type": "slide"
    }
   },
   "source": [
    "### Add witnesses to the collation object\n",
    "\n",
    "This is similar to what we've done in the previous exercise, but instead of the text we put here the variable containing the text read from the files."
   ]
  },
  {
   "cell_type": "code",
   "execution_count": null,
   "metadata": {},
   "outputs": [],
   "source": [
    "collation.add_plain_witness( \"witness fragment Pyftan\", pyftanFrgmt )\n",
    "collation.add_plain_witness( \"witness typescript Bradorthin\", bladorthinTpscr )\n",
    "collation.add_plain_witness( \"witness edition 1955\", edition1995 )"
   ]
  },
  {
   "cell_type": "markdown",
   "metadata": {
    "slideshow": {
     "slide_type": "slide"
    }
   },
   "source": [
    "### Collate and visualize the result\n",
    "\n",
    "When you create the collation result, use the output option to specify the output you want. Here, set to 'hmlt2'. We will see more about the output options in the next session!"
   ]
  },
  {
   "cell_type": "code",
   "execution_count": null,
   "metadata": {},
   "outputs": [],
   "source": [
    "collate(collation, output=\"html2\")"
   ]
  },
  {
   "cell_type": "markdown",
   "metadata": {
    "slideshow": {
     "slide_type": "slide"
    }
   },
   "source": [
    "# *Your turn!*"
   ]
  },
  {
   "cell_type": "markdown",
   "metadata": {
    "slideshow": {
     "slide_type": "slide"
    }
   },
   "source": [
    "## 2. Second exercise (Woolf texts). Read from files\n",
    "\n",
    "In the second exercise, we repeat the previous steps, now using the texts at \"../data/Woolf/Lighthouse\" and visualizing the output.\n",
    "\n",
    "We will be using different editions of Virginia Woolf's *To the lighthouse*:\n",
    "\n",
    "    USA = New York: Harcourt, Brace & Company, 1927 (1st USA edition)\n",
    "    UK = Londond: R & R Clark Limited, 1827 (1st UK edition)\n",
    "    EM (EVERYMAN) = London: J. M. Dent & Sons LTD, 1938 (reprint 1952)\n",
    "\n",
    "The facsimiles and trascriptions of the editions are available at http://woolfonline.com/. Please refer to the information in the data directory for the materials licence.\n",
    "\n",
    "Check the code below and be sure to understand what each line does."
   ]
  },
  {
   "cell_type": "code",
   "execution_count": null,
   "metadata": {
    "scrolled": true,
    "slideshow": {
     "slide_type": "subslide"
    }
   },
   "outputs": [],
   "source": [
    "witness_USA = open( \"../data/Woolf/Lighthouse/LighthouseUSA.txt\", encoding='utf-8' ).read()\n",
    "witness_UK = open( \"../data/Woolf/Lighthouse/LighthouseUK.txt\", encoding='utf-8' ).read()\n",
    "witness_EM = open( \"../data/Woolf/Lighthouse/LighthouseEM.txt\", encoding='utf-8' ).read()\n",
    "\n",
    "from collatex import *\n",
    "collation = Collation()\n",
    "collation.add_plain_witness( \"USA\", witness_USA )\n",
    "collation.add_plain_witness( \"UK\", witness_UK )\n",
    "collation.add_plain_witness( \"EM\", witness_EM )\n",
    "collate(collation, output='html2')"
   ]
  },
  {
   "cell_type": "markdown",
   "metadata": {
    "slideshow": {
     "slide_type": "slide"
    }
   },
   "source": [
    "# *Your turn!*"
   ]
  },
  {
   "cell_type": "markdown",
   "metadata": {
    "slideshow": {
     "slide_type": "slide"
    }
   },
   "source": [
    "## 3. Still have time? Third exercise (Darwin texts). Read from files\n",
    "\n",
    "Now you know how to collate texts stored in files. Try with the other materials inside the data directory: the first paragraph of Darwin's *On the Origin of Species*. \n",
    "- Create a new code cell, here below, with the button **+**.\n",
    "- Read the files, \n",
    "- test that they have been read by printing one of them, and finally \n",
    "- import CollateX, create a collation object, add the witnesses, collate and visualize the result."
   ]
  }
 ],
 "metadata": {
  "kernelspec": {
   "display_name": "Python 3",
   "language": "python",
   "name": "python3"
  },
  "language_info": {
   "codemirror_mode": {
    "name": "ipython",
    "version": 3
   },
   "file_extension": ".py",
   "mimetype": "text/x-python",
   "name": "python",
   "nbconvert_exporter": "python",
   "pygments_lexer": "ipython3",
   "version": "3.8.3"
  },
  "rise": {
   "scroll": true,
   "theme": "solarized",
   "transition": "slide"
  }
 },
 "nbformat": 4,
 "nbformat_minor": 1
}
